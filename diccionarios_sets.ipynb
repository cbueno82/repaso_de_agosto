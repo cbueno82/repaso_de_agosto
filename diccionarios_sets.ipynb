{
 "cells": [
  {
   "cell_type": "markdown",
   "metadata": {},
   "source": [
    "# Ejercicios diccionarios"
   ]
  },
  {
   "cell_type": "markdown",
   "metadata": {},
   "source": [
    "1. Crea un diccionario vacío sin ningún par clave-valor"
   ]
  },
  {
   "cell_type": "code",
   "execution_count": 2,
   "metadata": {},
   "outputs": [
    {
     "data": {
      "text/plain": [
       "{}"
      ]
     },
     "execution_count": 2,
     "metadata": {},
     "output_type": "execute_result"
    }
   ],
   "source": [
    "diccionario_e = {}\n",
    "diccionario_e"
   ]
  },
  {
   "cell_type": "markdown",
   "metadata": {},
   "source": [
    "2. Crea un diccionario con pares clave-valor predefinidos. Definir el diccionario con las claves y valores que querais. \n",
    "\n",
    "    **NOTA** El diccionario debe tener al menos 5 pares de clave:valor."
   ]
  },
  {
   "cell_type": "code",
   "execution_count": 6,
   "metadata": {},
   "outputs": [],
   "source": [
    "diccionario_escritoras = {\"Charlotte Brontë\" : \"Jane Eyre\", \"Jane Austen\" : \"Persuasion\", \n",
    "               \"Sylvia Townsend Warner\" : \"Lolly Willowes\", \"Barbara Pym\" : \"Excellent Women\",\n",
    "               \"Emily Brontë\" : \"Wuthering Heights\", \"Anne Brontë\" : \"Agnes Grey\",\n",
    "               \"Elizabeth Gaskell\" : \"North and South\", \"Elizabeth Taylor\" : \"Angel\",\n",
    "               \"Barbara Comyns\" : \"Our Spoons Came from Woolworths\", \"Muriel Spark\" : \"The Prime of Miss Jane Brodie\",\n",
    "               \"George Eliot\" : \"Middlemarch\", \"Stella Gibbons\" : \"Westwood\", \"Maggie O'Farrell\" : \"Hamnet\",\n",
    "               \"Virginia Woolf\" : \"To the Lighthouse\", \"Nancy Mitford\" : \"Love in a Cold Climate\",\n",
    "               \"Jessica Mitford\" : \"Hons and Rebels\", \"Penelope Fitzgerald\" : \"The Bookshop\"}"
   ]
  },
  {
   "cell_type": "code",
   "execution_count": 7,
   "metadata": {},
   "outputs": [
    {
     "data": {
      "text/plain": [
       "{'Charlotte Brontë': 'Jane Eyre',\n",
       " 'Jane Austen': 'Persuasion',\n",
       " 'Sylvia Townsend Warner': 'Lolly Willowes',\n",
       " 'Barbara Pym': 'Excellent Women',\n",
       " 'Emily Brontë': 'Wuthering Heights',\n",
       " 'Anne Brontë': 'Agnes Grey',\n",
       " 'Elizabeth Gaskell': 'North and South',\n",
       " 'Elizabeth Taylor': 'Angel',\n",
       " 'Barbara Comyns': 'Our Spoons Came from Woolworths',\n",
       " 'Muriel Spark': 'The Prime of Miss Jane Brodie',\n",
       " 'George Eliot': 'Middlemarch',\n",
       " 'Stella Gibbons': 'Westwood',\n",
       " \"Maggie O'Farrell\": 'Hamnet',\n",
       " 'Virginia Woolf': 'To the Lighthouse',\n",
       " 'Nancy Mitford': 'Love in a Cold Climate',\n",
       " 'Jessica Mitford': 'Hons and Rebels',\n",
       " 'Penelope Fitzgerald': 'The Bookshop'}"
      ]
     },
     "execution_count": 7,
     "metadata": {},
     "output_type": "execute_result"
    }
   ],
   "source": [
    "diccionario_escritoras"
   ]
  },
  {
   "cell_type": "markdown",
   "metadata": {},
   "source": [
    "3. Usando el diccionario creado en el paso anterior, obtén el valor correspondiente a una clave específica que indique el usuario (debereis usar la función `input()` para preguntar al usuario)."
   ]
  },
  {
   "cell_type": "code",
   "execution_count": 14,
   "metadata": {},
   "outputs": [
    {
     "data": {
      "text/plain": [
       "dict_values(['Jane Eyre', 'Persuasion', 'Lolly Willowes', 'Excellent Women', 'Wuthering Heights', 'Agnes Grey', 'North and South', 'Angel', 'Our Spoons Came from Woolworths', 'The Prime of Miss Jane Brodie', 'Middlemarch', 'Westwood', 'Hamnet', 'To the Lighthouse', 'Love in a Cold Climate', 'Hons and Rebels', 'The Bookshop'])"
      ]
     },
     "execution_count": 14,
     "metadata": {},
     "output_type": "execute_result"
    }
   ],
   "source": [
    "diccionario_escritoras.keys()\n",
    "diccionario_escritoras.values()"
   ]
  },
  {
   "cell_type": "code",
   "execution_count": 30,
   "metadata": {},
   "outputs": [
    {
     "data": {
      "text/plain": [
       "'The Prime of Miss Jane Brodie'"
      ]
     },
     "execution_count": 30,
     "metadata": {},
     "output_type": "execute_result"
    }
   ],
   "source": [
    "diccionario_escritoras.get(input(\"¿De qué escritora quieres saber el libro: \").title())"
   ]
  },
  {
   "cell_type": "markdown",
   "metadata": {},
   "source": [
    "4. Usando el diccionario creado en el ejercicio 2, agrega un nuevo par clave-valor."
   ]
  },
  {
   "cell_type": "code",
   "execution_count": 31,
   "metadata": {},
   "outputs": [
    {
     "data": {
      "text/plain": [
       "{'Charlotte Brontë': 'Jane Eyre',\n",
       " 'Jane Austen': 'Persuasion',\n",
       " 'Sylvia Townsend Warner': 'Lolly Willowes',\n",
       " 'Barbara Pym': 'Excellent Women',\n",
       " 'Emily Brontë': 'Wuthering Heights',\n",
       " 'Anne Brontë': 'Agnes Grey',\n",
       " 'Elizabeth Gaskell': 'North and South',\n",
       " 'Elizabeth Taylor': 'Angel',\n",
       " 'Barbara Comyns': 'Our Spoons Came from Woolworths',\n",
       " 'Muriel Spark': 'The Prime of Miss Jane Brodie',\n",
       " 'George Eliot': 'Middlemarch',\n",
       " 'Stella Gibbons': 'Westwood',\n",
       " \"Maggie O'Farrell\": 'Hamnet',\n",
       " 'Virginia Woolf': 'To the Lighthouse',\n",
       " 'Nancy Mitford': 'Love in a Cold Climate',\n",
       " 'Jessica Mitford': 'Hons and Rebels',\n",
       " 'Penelope Fitzgerald': 'The Bookshop',\n",
       " 'A. S. Byatt': 'Possession'}"
      ]
     },
     "execution_count": 31,
     "metadata": {},
     "output_type": "execute_result"
    }
   ],
   "source": [
    "diccionario_escritoras.update({\"A. S. Byatt\" : \"Possession\"})\n",
    "diccionario_escritoras"
   ]
  },
  {
   "cell_type": "markdown",
   "metadata": {},
   "source": [
    "5. Usando el diccionario creado en el ejercicio 2, actualiza el valor correspondiente a una clave existente. Ejemplo:\n",
    "\n",
    "    ```python\n",
    "    # dado el siguiente diccionario\n",
    "    {'nombre': 'Ana', 'edad': 25, 'ciudad': 'Madrid', 'hijos': 1}\n",
    "\n",
    "    # el ouptut esperado es: (ha cambiado el valor de la clave edad)\n",
    "    {'nombre': 'Ana', 'edad': 40, 'ciudad': 'Madrid', 'hijos': 1}\n",
    "    ```"
   ]
  },
  {
   "cell_type": "code",
   "execution_count": 85,
   "metadata": {},
   "outputs": [
    {
     "data": {
      "text/plain": [
       "{'Charlotte Brontë': 'Jane Eyre',\n",
       " 'Jane Austen': 'Persuasion',\n",
       " 'Sylvia Townsend Warner': 'Lolly Willowes',\n",
       " 'Barbara Pym': ['Excellent Women', 'Jane and Prudence'],\n",
       " 'Emily Brontë': 'Wuthering Heights',\n",
       " 'Anne Brontë': 'Agnes Grey',\n",
       " 'Elizabeth Gaskell': 'North and South',\n",
       " 'Elizabeth Taylor': 'Angel',\n",
       " 'Barbara Comyns': ['Our Spoons Came from Woolworths', \"The Vet's Daughter\"],\n",
       " 'Muriel Spark': 'The Prime of Miss Jane Brodie',\n",
       " 'George Eliot': 'Middlemarch',\n",
       " 'Stella Gibbons': 'Westwood',\n",
       " \"Maggie O'Farrell\": 'Hamnet',\n",
       " 'Virginia Woolf': 'To the Lighthouse',\n",
       " 'Nancy Mitford': 'Love in a Cold Climate',\n",
       " 'Jessica Mitford': 'Hons and Rebels',\n",
       " 'Penelope Fitzgerald': 'The Bookshop',\n",
       " 'A. S. Byatt': ['Possession', 'Angels and Insects'],\n",
       " 'Espido Freire': 'Querida Jane, querida Charlotte',\n",
       " 'Almudena Grandes': 'Los aires difíciles'}"
      ]
     },
     "execution_count": 85,
     "metadata": {},
     "output_type": "execute_result"
    }
   ],
   "source": [
    "nuevo_pym = {\"Barbara Pym\" : [\"Excellent Women\", \"Jane and Prudence\"]}\n",
    "nuevo_comyns = {\"Barbara Comyns\" : [\"Our Spoons Came from Woolworths\", \"The Vet's Daughter\"]}\n",
    "nuevo_byatt = {\"A. S. Byatt\" : [\"Possession\", \"Angels and Insects\"]}\n",
    "nuevo_desobra = {\"Espido Freire\" : \"Querida Jane, querida Charlotte\"}\n",
    "nuevo_desobras = {\"Almudena Grandes\" : \"Los aires difíciles\"}\n",
    "diccionario_escritoras.update(nuevo_pym)\n",
    "diccionario_escritoras.update(nuevo_comyns)\n",
    "diccionario_escritoras.update(nuevo_byatt)\n",
    "diccionario_escritoras.update(nuevo_desobra)\n",
    "diccionario_escritoras.update(nuevo_desobras)\n",
    "diccionario_escritoras"
   ]
  },
  {
   "cell_type": "markdown",
   "metadata": {},
   "source": [
    "6. Usando el diccionario creado en el ejercicio 2, elimina un par clave-valor específico que indique el usuario (deberéis usar la función input() para preguntar al usuario)."
   ]
  },
  {
   "cell_type": "code",
   "execution_count": 44,
   "metadata": {},
   "outputs": [
    {
     "data": {
      "text/plain": [
       "'Querida Jane, querida Charlotte'"
      ]
     },
     "execution_count": 44,
     "metadata": {},
     "output_type": "execute_result"
    }
   ],
   "source": [
    "diccionario_escritoras.pop(\"Espido Freire\")"
   ]
  },
  {
   "cell_type": "code",
   "execution_count": 46,
   "metadata": {},
   "outputs": [
    {
     "data": {
      "text/plain": [
       "{'Charlotte Brontë': 'Jane Eyre',\n",
       " 'Jane Austen': 'Persuasion',\n",
       " 'Sylvia Townsend Warner': 'Lolly Willowes',\n",
       " 'Barbara Pym': ['Excellent Women', 'Jane and Prudence'],\n",
       " 'Emily Brontë': 'Wuthering Heights',\n",
       " 'Anne Brontë': 'Agnes Grey',\n",
       " 'Elizabeth Gaskell': 'North and South',\n",
       " 'Elizabeth Taylor': 'Angel',\n",
       " 'Barbara Comyns': ['Our Spoons Came from Woolworths', \"The Vet's Daughter\"],\n",
       " 'Muriel Spark': 'The Prime of Miss Jane Brodie',\n",
       " 'George Eliot': 'Middlemarch',\n",
       " 'Stella Gibbons': 'Westwood',\n",
       " \"Maggie O'Farrell\": 'Hamnet',\n",
       " 'Virginia Woolf': 'To the Lighthouse',\n",
       " 'Nancy Mitford': 'Love in a Cold Climate',\n",
       " 'Jessica Mitford': 'Hons and Rebels',\n",
       " 'Penelope Fitzgerald': 'The Bookshop',\n",
       " 'A. S. Byatt': ['Possession', 'Angels and Insects'],\n",
       " 'Almudena Grandes': 'Los aires difíciles'}"
      ]
     },
     "execution_count": 46,
     "metadata": {},
     "output_type": "execute_result"
    }
   ],
   "source": [
    "diccionario_escritoras"
   ]
  },
  {
   "cell_type": "code",
   "execution_count": 48,
   "metadata": {},
   "outputs": [
    {
     "data": {
      "text/plain": [
       "{'Charlotte Brontë': 'Jane Eyre',\n",
       " 'Jane Austen': 'Persuasion',\n",
       " 'Sylvia Townsend Warner': 'Lolly Willowes',\n",
       " 'Barbara Pym': ['Excellent Women', 'Jane and Prudence'],\n",
       " 'Emily Brontë': 'Wuthering Heights',\n",
       " 'Anne Brontë': 'Agnes Grey',\n",
       " 'Elizabeth Gaskell': 'North and South',\n",
       " 'Elizabeth Taylor': 'Angel',\n",
       " 'Barbara Comyns': ['Our Spoons Came from Woolworths', \"The Vet's Daughter\"],\n",
       " 'Muriel Spark': 'The Prime of Miss Jane Brodie',\n",
       " 'George Eliot': 'Middlemarch',\n",
       " 'Stella Gibbons': 'Westwood',\n",
       " \"Maggie O'Farrell\": 'Hamnet',\n",
       " 'Virginia Woolf': 'To the Lighthouse',\n",
       " 'Nancy Mitford': 'Love in a Cold Climate',\n",
       " 'Jessica Mitford': 'Hons and Rebels',\n",
       " 'Penelope Fitzgerald': 'The Bookshop',\n",
       " 'A. S. Byatt': ['Possession', 'Angels and Insects']}"
      ]
     },
     "execution_count": 48,
     "metadata": {},
     "output_type": "execute_result"
    }
   ],
   "source": [
    "diccionario_escritoras.pop(input(\"¿Qué escritora quieres que eliminemos?\").title())\n",
    "diccionario_escritoras"
   ]
  },
  {
   "cell_type": "markdown",
   "metadata": {},
   "source": [
    "7. Usando el diccionario creado en el ejercicio 2, verifica si una clave específica está presente en él. La clave a buscar debe ser pasada por el usuario, debereis usar un input()."
   ]
  },
  {
   "cell_type": "code",
   "execution_count": 51,
   "metadata": {},
   "outputs": [
    {
     "data": {
      "text/plain": [
       "False"
      ]
     },
     "execution_count": 51,
     "metadata": {},
     "output_type": "execute_result"
    }
   ],
   "source": [
    "input(\"¿Qué escritora quieres que busque?\").title() in diccionario_escritoras"
   ]
  },
  {
   "cell_type": "markdown",
   "metadata": {},
   "source": [
    "8. Usando el diccionario creado en el ejercicio 2, obtén una lista con todas las claves que contiene."
   ]
  },
  {
   "cell_type": "code",
   "execution_count": 54,
   "metadata": {},
   "outputs": [
    {
     "data": {
      "text/plain": [
       "dict_keys(['Charlotte Brontë', 'Jane Austen', 'Sylvia Townsend Warner', 'Barbara Pym', 'Emily Brontë', 'Anne Brontë', 'Elizabeth Gaskell', 'Elizabeth Taylor', 'Barbara Comyns', 'Muriel Spark', 'George Eliot', 'Stella Gibbons', \"Maggie O'Farrell\", 'Virginia Woolf', 'Nancy Mitford', 'Jessica Mitford', 'Penelope Fitzgerald', 'A. S. Byatt'])"
      ]
     },
     "execution_count": 54,
     "metadata": {},
     "output_type": "execute_result"
    }
   ],
   "source": [
    "diccionario_escritoras.keys()"
   ]
  },
  {
   "cell_type": "markdown",
   "metadata": {},
   "source": [
    "9. Usando el diccionario creado en el ejercicio 2, obtén una lista con todos los valores que contiene."
   ]
  },
  {
   "cell_type": "code",
   "execution_count": 55,
   "metadata": {},
   "outputs": [
    {
     "data": {
      "text/plain": [
       "dict_values(['Jane Eyre', 'Persuasion', 'Lolly Willowes', ['Excellent Women', 'Jane and Prudence'], 'Wuthering Heights', 'Agnes Grey', 'North and South', 'Angel', ['Our Spoons Came from Woolworths', \"The Vet's Daughter\"], 'The Prime of Miss Jane Brodie', 'Middlemarch', 'Westwood', 'Hamnet', 'To the Lighthouse', 'Love in a Cold Climate', 'Hons and Rebels', 'The Bookshop', ['Possession', 'Angels and Insects']])"
      ]
     },
     "execution_count": 55,
     "metadata": {},
     "output_type": "execute_result"
    }
   ],
   "source": [
    "diccionario_escritoras.values()"
   ]
  },
  {
   "cell_type": "markdown",
   "metadata": {},
   "source": [
    "10. Usando el diccionario creado en el ejercicio 2, obten el valor correspondiente a una clave. Si la clave no existe, establece un valor predeterminado y devuelve dicho valor."
   ]
  },
  {
   "cell_type": "code",
   "execution_count": 74,
   "metadata": {},
   "outputs": [
    {
     "data": {
      "text/plain": [
       "'Consequences'"
      ]
     },
     "execution_count": 74,
     "metadata": {},
     "output_type": "execute_result"
    }
   ],
   "source": [
    "diccionario_escritoras.get(\"Penelope Lively\")"
   ]
  },
  {
   "cell_type": "markdown",
   "metadata": {},
   "source": [
    "11. Usando el diccionario creado en el ejercicio 2, realiza operaciones de eliminación utilizando `pop()` y `popitem()`, y observa cómo afectan al diccionario."
   ]
  },
  {
   "cell_type": "code",
   "execution_count": 76,
   "metadata": {},
   "outputs": [
    {
     "data": {
      "text/plain": [
       "'Los aires difíciles'"
      ]
     },
     "execution_count": 76,
     "metadata": {},
     "output_type": "execute_result"
    }
   ],
   "source": [
    "diccionario_escritoras.pop(\"Almudena Grandes\")"
   ]
  },
  {
   "cell_type": "code",
   "execution_count": 77,
   "metadata": {},
   "outputs": [
    {
     "data": {
      "text/plain": [
       "'Querida Jane, querida Charlotte'"
      ]
     },
     "execution_count": 77,
     "metadata": {},
     "output_type": "execute_result"
    }
   ],
   "source": [
    "diccionario_escritoras.pop(\"Espido Freire\")"
   ]
  },
  {
   "cell_type": "code",
   "execution_count": 86,
   "metadata": {},
   "outputs": [
    {
     "data": {
      "text/plain": [
       "{'Charlotte Brontë': 'Jane Eyre',\n",
       " 'Jane Austen': 'Persuasion',\n",
       " 'Sylvia Townsend Warner': 'Lolly Willowes',\n",
       " 'Barbara Pym': ['Excellent Women', 'Jane and Prudence'],\n",
       " 'Emily Brontë': 'Wuthering Heights',\n",
       " 'Anne Brontë': 'Agnes Grey',\n",
       " 'Elizabeth Gaskell': 'North and South',\n",
       " 'Elizabeth Taylor': 'Angel',\n",
       " 'Barbara Comyns': ['Our Spoons Came from Woolworths', \"The Vet's Daughter\"],\n",
       " 'Muriel Spark': 'The Prime of Miss Jane Brodie',\n",
       " 'George Eliot': 'Middlemarch',\n",
       " 'Stella Gibbons': 'Westwood',\n",
       " \"Maggie O'Farrell\": 'Hamnet',\n",
       " 'Virginia Woolf': 'To the Lighthouse',\n",
       " 'Nancy Mitford': 'Love in a Cold Climate',\n",
       " 'Jessica Mitford': 'Hons and Rebels',\n",
       " 'Penelope Fitzgerald': 'The Bookshop',\n",
       " 'A. S. Byatt': ['Possession', 'Angels and Insects'],\n",
       " 'Espido Freire': 'Querida Jane, querida Charlotte',\n",
       " 'Almudena Grandes': 'Los aires difíciles'}"
      ]
     },
     "execution_count": 86,
     "metadata": {},
     "output_type": "execute_result"
    }
   ],
   "source": [
    "diccionario_escritoras"
   ]
  },
  {
   "cell_type": "code",
   "execution_count": 87,
   "metadata": {},
   "outputs": [
    {
     "data": {
      "text/plain": [
       "('Almudena Grandes', 'Los aires difíciles')"
      ]
     },
     "execution_count": 87,
     "metadata": {},
     "output_type": "execute_result"
    }
   ],
   "source": [
    "diccionario_escritoras.popitem()"
   ]
  },
  {
   "cell_type": "code",
   "execution_count": 89,
   "metadata": {},
   "outputs": [
    {
     "data": {
      "text/plain": [
       "('Espido Freire', 'Querida Jane, querida Charlotte')"
      ]
     },
     "execution_count": 89,
     "metadata": {},
     "output_type": "execute_result"
    }
   ],
   "source": [
    "diccionario_escritoras.popitem()"
   ]
  },
  {
   "cell_type": "code",
   "execution_count": 90,
   "metadata": {},
   "outputs": [
    {
     "data": {
      "text/plain": [
       "{'Charlotte Brontë': 'Jane Eyre',\n",
       " 'Jane Austen': 'Persuasion',\n",
       " 'Sylvia Townsend Warner': 'Lolly Willowes',\n",
       " 'Barbara Pym': ['Excellent Women', 'Jane and Prudence'],\n",
       " 'Emily Brontë': 'Wuthering Heights',\n",
       " 'Anne Brontë': 'Agnes Grey',\n",
       " 'Elizabeth Gaskell': 'North and South',\n",
       " 'Elizabeth Taylor': 'Angel',\n",
       " 'Barbara Comyns': ['Our Spoons Came from Woolworths', \"The Vet's Daughter\"],\n",
       " 'Muriel Spark': 'The Prime of Miss Jane Brodie',\n",
       " 'George Eliot': 'Middlemarch',\n",
       " 'Stella Gibbons': 'Westwood',\n",
       " \"Maggie O'Farrell\": 'Hamnet',\n",
       " 'Virginia Woolf': 'To the Lighthouse',\n",
       " 'Nancy Mitford': 'Love in a Cold Climate',\n",
       " 'Jessica Mitford': 'Hons and Rebels',\n",
       " 'Penelope Fitzgerald': 'The Bookshop',\n",
       " 'A. S. Byatt': ['Possession', 'Angels and Insects']}"
      ]
     },
     "execution_count": 90,
     "metadata": {},
     "output_type": "execute_result"
    }
   ],
   "source": [
    "diccionario_escritoras"
   ]
  },
  {
   "cell_type": "markdown",
   "metadata": {},
   "source": [
    "# Ejercicios de sets"
   ]
  },
  {
   "cell_type": "markdown",
   "metadata": {},
   "source": [
    "1. Crea un conjunto vacío sin ningún elemento."
   ]
  },
  {
   "cell_type": "code",
   "execution_count": 12,
   "metadata": {},
   "outputs": [],
   "source": [
    "set_empty = {}"
   ]
  },
  {
   "cell_type": "markdown",
   "metadata": {},
   "source": [
    "2. Crea un conjunto con elementos predefinidos."
   ]
  },
  {
   "cell_type": "code",
   "execution_count": 13,
   "metadata": {},
   "outputs": [
    {
     "data": {
      "text/plain": [
       "11"
      ]
     },
     "execution_count": 13,
     "metadata": {},
     "output_type": "execute_result"
    }
   ],
   "source": [
    "set = {'Charlotte Brontë', 'Jane Austen', 'Sylvia Townsend Warner', \n",
    "       'Barbara Pym', 'Emily Brontë', 'Anne Brontë', 'Elizabeth Gaskell', \n",
    "       'Elizabeth Taylor', 'Barbara Comyns', 'Muriel Spark', 'George Eliot'}\n",
    "\n",
    "len(set)"
   ]
  },
  {
   "cell_type": "markdown",
   "metadata": {},
   "source": [
    "3. Usando el set creado en el ejercicio 2, agrega nuevos elementos. Deberéis agregar por separado:\n",
    "     * Un elemento solo\n",
    "     * Un par de elementos a la vez."
   ]
  },
  {
   "cell_type": "code",
   "execution_count": 14,
   "metadata": {},
   "outputs": [
    {
     "data": {
      "text/plain": [
       "12"
      ]
     },
     "execution_count": 14,
     "metadata": {},
     "output_type": "execute_result"
    }
   ],
   "source": [
    "set.add(\"Stella Gibbons\")\n",
    "len(set)"
   ]
  },
  {
   "cell_type": "code",
   "execution_count": 15,
   "metadata": {},
   "outputs": [
    {
     "data": {
      "text/plain": [
       "17"
      ]
     },
     "execution_count": 15,
     "metadata": {},
     "output_type": "execute_result"
    }
   ],
   "source": [
    "actualizacion = ['Virginia Woolf', 'Nancy Mitford', 'Jessica Mitford', 'Penelope Fitzgerald', 'A. S. Byatt']\n",
    "set.update(actualizacion)\n",
    "len(set)"
   ]
  },
  {
   "cell_type": "markdown",
   "metadata": {},
   "source": [
    "4. Usando el set creado en el ejercicio 2, elimina un elemento especificado por el usuario."
   ]
  },
  {
   "cell_type": "code",
   "execution_count": 16,
   "metadata": {},
   "outputs": [],
   "source": [
    "set.remove(input(\"¿Qué elemento quieres eliminar? \"))"
   ]
  },
  {
   "cell_type": "code",
   "execution_count": 17,
   "metadata": {},
   "outputs": [
    {
     "data": {
      "text/plain": [
       "16"
      ]
     },
     "execution_count": 17,
     "metadata": {},
     "output_type": "execute_result"
    }
   ],
   "source": [
    "len(set)"
   ]
  },
  {
   "cell_type": "markdown",
   "metadata": {},
   "source": [
    "5. Usando el set creado en el ejercicio 2, verifica si un elemento específico está presente en él."
   ]
  },
  {
   "cell_type": "code",
   "execution_count": 18,
   "metadata": {},
   "outputs": [
    {
     "name": "stdout",
     "output_type": "stream",
     "text": [
      "False\n",
      "True\n"
     ]
    }
   ],
   "source": [
    "print(\"Virginia Woolf\" in set)\n",
    "print(\"Nancy Mitford\" in set)"
   ]
  },
  {
   "cell_type": "markdown",
   "metadata": {},
   "source": [
    "6. Dados dos conjuntos, realiza una unión de ellos."
   ]
  },
  {
   "cell_type": "code",
   "execution_count": 20,
   "metadata": {},
   "outputs": [
    {
     "name": "stdout",
     "output_type": "stream",
     "text": [
      "{'Jessica Mitford', 'Elizabeth Gaskell', 'Emily Brontë', 'Charlotte Brontë', \"Maggie O'Farrell\", 'Nancy Mitford', 'Virginia Woolf', 'Penelope Fitzgerald', 'Barbara Pym', 'Elizabeth Taylor', 'Stella Gibbons', 'Anne Brontë', 'Jane Austen', 'George Eliot', 'Barbara Comyns', 'Muriel Spark', 'Sylvia Townsend Warner', 'A. S. Byatt'}\n",
      "18\n"
     ]
    }
   ],
   "source": [
    "set2 = {\"Virginia Woolf\", \"Maggie O'Farrell\"}\n",
    "union = set|set2 \n",
    "print(union)\n",
    "print(len(union))"
   ]
  },
  {
   "cell_type": "code",
   "execution_count": 21,
   "metadata": {},
   "outputs": [
    {
     "name": "stdout",
     "output_type": "stream",
     "text": [
      "{'Jessica Mitford', 'Elizabeth Gaskell', 'Emily Brontë', 'Charlotte Brontë', \"Maggie O'Farrell\", 'Nancy Mitford', 'Margaret Drabble', 'Virginia Woolf', 'Penelope Fitzgerald', 'Barbara Pym', 'Elizabeth Taylor', 'Stella Gibbons', 'Anne Brontë', 'Jane Austen', 'George Eliot', 'Barbara Comyns', 'Muriel Spark', 'Sylvia Townsend Warner', 'A. S. Byatt'}\n",
      "19\n"
     ]
    }
   ],
   "source": [
    "# otra opción es usar union()\n",
    "\n",
    "set3 = {\"Margaret Drabble\"}\n",
    "union2 = union.union(set3)\n",
    "print(union2)\n",
    "print(len(union2))"
   ]
  },
  {
   "cell_type": "markdown",
   "metadata": {},
   "source": [
    "7. Usando dos conjuntos de datos definidos en el ejercicio anterior, realiza una intersección de ellos."
   ]
  },
  {
   "cell_type": "code",
   "execution_count": 22,
   "metadata": {},
   "outputs": [
    {
     "name": "stdout",
     "output_type": "stream",
     "text": [
      "{'Anne Brontë', 'Jessica Mitford', 'Jane Austen', 'Elizabeth Gaskell', 'Emily Brontë', 'George Eliot', 'Barbara Comyns', 'Charlotte Brontë', 'Nancy Mitford', 'Muriel Spark', 'Penelope Fitzgerald', 'Barbara Pym', 'Elizabeth Taylor', 'Stella Gibbons', 'Sylvia Townsend Warner', 'A. S. Byatt'}\n",
      "16\n"
     ]
    }
   ],
   "source": [
    "set_interseccion = union2.intersection(set)\n",
    "print(set_interseccion)\n",
    "print(len(set_interseccion))"
   ]
  },
  {
   "cell_type": "markdown",
   "metadata": {},
   "source": [
    "8. Usando dos conjuntos de datos definidos en el ejercicio anterior, realiza una diferencia entre ellos."
   ]
  },
  {
   "cell_type": "code",
   "execution_count": 23,
   "metadata": {},
   "outputs": [
    {
     "name": "stdout",
     "output_type": "stream",
     "text": [
      "{'Virginia Woolf', \"Maggie O'Farrell\", 'Margaret Drabble'}\n",
      "3\n"
     ]
    }
   ],
   "source": [
    "set_diferencia = union2.difference(set)\n",
    "print(set_diferencia)\n",
    "print(len(set_diferencia))"
   ]
  },
  {
   "cell_type": "markdown",
   "metadata": {},
   "source": [
    "9. Dados dos conjuntos, verifica si uno es subconjunto del otro."
   ]
  },
  {
   "cell_type": "code",
   "execution_count": 25,
   "metadata": {},
   "outputs": [
    {
     "name": "stdout",
     "output_type": "stream",
     "text": [
      "True\n"
     ]
    }
   ],
   "source": [
    "set_issubset = set.issubset(union2)\n",
    "print(set_issubset)"
   ]
  },
  {
   "cell_type": "code",
   "execution_count": 26,
   "metadata": {},
   "outputs": [
    {
     "name": "stdout",
     "output_type": "stream",
     "text": [
      "False\n"
     ]
    }
   ],
   "source": [
    "set_issubset2 = union2.issubset(set)\n",
    "print(set_issubset2)"
   ]
  },
  {
   "cell_type": "code",
   "execution_count": 27,
   "metadata": {},
   "outputs": [
    {
     "name": "stdout",
     "output_type": "stream",
     "text": [
      "False\n"
     ]
    }
   ],
   "source": [
    "set_issuperset = set.issuperset(union2)\n",
    "print(set_issuperset)"
   ]
  },
  {
   "cell_type": "code",
   "execution_count": 28,
   "metadata": {},
   "outputs": [
    {
     "name": "stdout",
     "output_type": "stream",
     "text": [
      "True\n"
     ]
    }
   ],
   "source": [
    "set_issuperset2 = union2.issuperset(set)\n",
    "print(set_issuperset2)"
   ]
  }
 ],
 "metadata": {
  "kernelspec": {
   "display_name": "base",
   "language": "python",
   "name": "python3"
  },
  "language_info": {
   "codemirror_mode": {
    "name": "ipython",
    "version": 3
   },
   "file_extension": ".py",
   "mimetype": "text/x-python",
   "name": "python",
   "nbconvert_exporter": "python",
   "pygments_lexer": "ipython3",
   "version": "3.12.7"
  }
 },
 "nbformat": 4,
 "nbformat_minor": 2
}
