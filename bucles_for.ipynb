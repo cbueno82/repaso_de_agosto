{
 "cells": [
  {
   "cell_type": "markdown",
   "metadata": {},
   "source": [
    "---\n",
    "description: bucles for, list comprehension y try ..except\n",
    "---\n",
    "\n",
    "## **Ejericios bucles for**"
   ]
  },
  {
   "cell_type": "markdown",
   "metadata": {},
   "source": [
    "1. Imprimir los números del 1 al 5 utilizando un bucle `for`\n",
    "   * Descripción: Utiliza un bucle `for` para imprimir los números del 1 al 5 (incluido) en orden ascendente."
   ]
  },
  {
   "cell_type": "code",
   "execution_count": 5,
   "metadata": {},
   "outputs": [
    {
     "name": "stdout",
     "output_type": "stream",
     "text": [
      "1\n",
      "2\n",
      "3\n",
      "4\n",
      "5\n"
     ]
    }
   ],
   "source": [
    "numeros = range(1, 6)\n",
    "for numero in numeros:\n",
    "    print(numero)"
   ]
  },
  {
   "cell_type": "markdown",
   "metadata": {},
   "source": [
    "2. Calcular la suma de los primeros 10 números naturales utilizando un bucle `for`\n",
    "   * Descripción: Utiliza un bucle `for` para calcular la suma de los primeros 10 números naturales (1 + 2 + 3 + ... + 10)."
   ]
  },
  {
   "cell_type": "code",
   "execution_count": 13,
   "metadata": {},
   "outputs": [
    {
     "name": "stdout",
     "output_type": "stream",
     "text": [
      "55\n"
     ]
    }
   ],
   "source": [
    "suma = 0\n",
    "\n",
    "for i in range(1,11):\n",
    "    suma += i\n",
    "\n",
    "print(suma)"
   ]
  },
  {
   "cell_type": "markdown",
   "metadata": {},
   "source": [
    "3. Calcular el producto de los elementos de una lista\n",
    "   * Descripción: Dada una lista de números, utiliza un bucle `for` para calcular el producto de todos los elementos."
   ]
  },
  {
   "cell_type": "code",
   "execution_count": 17,
   "metadata": {},
   "outputs": [
    {
     "name": "stdout",
     "output_type": "stream",
     "text": [
      "1\n",
      "7\n",
      "56\n",
      "504\n",
      "5544\n",
      "\n",
      "5544\n"
     ]
    }
   ],
   "source": [
    "lista = [1, 7, 8, 9, 11]\n",
    "multiplicacion = 1\n",
    "\n",
    "for i in lista:\n",
    "    multiplicacion *= i\n",
    "    print(multiplicacion)\n",
    "\n",
    "print()\n",
    "print(multiplicacion)"
   ]
  },
  {
   "cell_type": "markdown",
   "metadata": {},
   "source": [
    "4. Imprimir los caracteres de una cadena de texto\n",
    "   * Descripción: Dada una cadena de texto, utiliza un bucle `for` para imprimir cada carácter en una línea separada."
   ]
  },
  {
   "cell_type": "code",
   "execution_count": 19,
   "metadata": {},
   "outputs": [
    {
     "name": "stdout",
     "output_type": "stream",
     "text": [
      "É\n",
      "r\n",
      "a\n",
      "s\n",
      "e\n",
      " \n",
      "u\n",
      "n\n",
      "a\n",
      " \n",
      "v\n",
      "e\n",
      "z\n",
      " \n",
      "q\n",
      "u\n",
      "e\n",
      " \n",
      "s\n",
      "e\n",
      " \n",
      "e\n",
      "r\n",
      "a\n",
      ".\n"
     ]
    }
   ],
   "source": [
    "cadena = \"Érase una vez que se era.\"\n",
    "\n",
    "for i in cadena:\n",
    "    print(i)"
   ]
  },
  {
   "cell_type": "markdown",
   "metadata": {},
   "source": [
    "5. Imprimir los números pares del 1 al 100 utilizando un bucle `for`\n",
    "   * Descripción: Utiliza un bucle `for` para imprimir los números pares del 1 al 100 en orden ascendente."
   ]
  },
  {
   "cell_type": "code",
   "execution_count": 26,
   "metadata": {},
   "outputs": [
    {
     "name": "stdout",
     "output_type": "stream",
     "text": [
      "2\n",
      "4\n",
      "6\n",
      "8\n",
      "10\n",
      "12\n",
      "14\n",
      "16\n",
      "18\n",
      "20\n",
      "22\n",
      "24\n",
      "26\n",
      "28\n",
      "30\n",
      "32\n",
      "34\n",
      "36\n",
      "38\n",
      "40\n",
      "42\n",
      "44\n",
      "46\n",
      "48\n",
      "50\n",
      "52\n",
      "54\n",
      "56\n",
      "58\n",
      "60\n",
      "62\n",
      "64\n",
      "66\n",
      "68\n",
      "70\n",
      "72\n",
      "74\n",
      "76\n",
      "78\n",
      "80\n",
      "82\n",
      "84\n",
      "86\n",
      "88\n",
      "90\n",
      "92\n",
      "94\n",
      "96\n",
      "98\n"
     ]
    }
   ],
   "source": [
    "for i in range(2, 100, 2):\n",
    "    print(i)"
   ]
  },
  {
   "cell_type": "markdown",
   "metadata": {},
   "source": [
    "6. Imprimir los números primos del 1 al 50 utilizando un bucle `for`\n",
    "   * Descripción: Utiliza un bucle `for` para imprimir los números primos del 1 al 50 en orden ascendente.\n",
    "   * NOTA: Según la Wikipedia, un número primo es un número natural mayor que 1 que no tiene divisores positivos más que 1 y él mismo."
   ]
  },
  {
   "cell_type": "code",
   "execution_count": 30,
   "metadata": {},
   "outputs": [
    {
     "name": "stdout",
     "output_type": "stream",
     "text": [
      "2\n",
      "3\n",
      "5\n",
      "7\n",
      "11\n",
      "13\n",
      "17\n",
      "19\n",
      "23\n",
      "29\n",
      "31\n",
      "37\n",
      "41\n",
      "43\n",
      "47\n"
     ]
    }
   ],
   "source": [
    "for n in range(2, 51): \n",
    "    es_primo = True\n",
    "    for i in range(2, n):\n",
    "        if n % i == 0:\n",
    "            es_primo = False\n",
    "            break\n",
    "    if es_primo:\n",
    "        print(n)"
   ]
  },
  {
   "cell_type": "markdown",
   "metadata": {},
   "source": [
    "7. Calcular el factorial de un número utilizando un bucle `for`\n",
    "   * Descripción: Dado un número entero positivo, calcula su factorial utilizando un bucle `for`."
   ]
  },
  {
   "cell_type": "code",
   "execution_count": 46,
   "metadata": {},
   "outputs": [
    {
     "name": "stdout",
     "output_type": "stream",
     "text": [
      "El factorial de 6 es 720\n"
     ]
    }
   ],
   "source": [
    "import random\n",
    "\n",
    "numero = random.randint(2, 10)\n",
    "factorial = 1\n",
    "\n",
    "for i in range(1, numero + 1):\n",
    "    factorial *= i\n",
    "\n",
    "print(f\"El factorial de {numero} es {factorial}\")"
   ]
  },
  {
   "cell_type": "markdown",
   "metadata": {},
   "source": [
    "8. Juego de adivinar palabras utilizando un bucle `for`\n",
    "   * Descripción: Crea un juego en el que el jugador debe adivinar una palabra secreta. El jugador tiene un número limitado de intentos y se le proporcionan pistas después de cada intento. Utiliza un bucle `for` para controlar los intentos del jugador."
   ]
  },
  {
   "cell_type": "code",
   "execution_count": 66,
   "metadata": {},
   "outputs": [
    {
     "name": "stdout",
     "output_type": "stream",
     "text": [
      "Es muy guapo\n",
      "Te quedan 2 intentos\n",
      "\n",
      "Es el mejor amigo del hombre\n",
      "Te quedan 1 intentos\n",
      "\n",
      "¡Has acertado! El animal es perro\n"
     ]
    }
   ],
   "source": [
    "import random\n",
    "\n",
    "palabra_secreta = \"perro\"\n",
    "pista = [\n",
    "    \"Es un mamífero\",\n",
    "    \"Es muy guapo\",\n",
    "    \"Es el mejor amigo del hombre\"\n",
    "]\n",
    "\n",
    "intentos_maximos = 3\n",
    "\n",
    "for intento in range(1, intentos_maximos + 1):\n",
    "    adivinar = input(\"Adivina el animal: \").lower()\n",
    "\n",
    "    if adivinar == palabra_secreta:\n",
    "        print(f\"¡Has acertado! El animal es {palabra_secreta}\")\n",
    "        break  # termina el bucle si acierta\n",
    "    else:\n",
    "        print(random.choice(pista))\n",
    "        print(f\"Te quedan {intentos_maximos - intento} intentos\\n\")\n",
    "else:\n",
    "    # Este else se ejecuta solo si el bucle terminó sin un break\n",
    "    print(f\"Te has quedado sin intentos. El animal era {palabra_secreta}\")\n",
    "\n"
   ]
  },
  {
   "cell_type": "markdown",
   "metadata": {},
   "source": [
    "## **Ejercicios \\_list comprehension**\\_"
   ]
  },
  {
   "cell_type": "markdown",
   "metadata": {},
   "source": [
    "1. Generar una lista de los números pares del 1 al 20.\n",
    "   * Descripción: Utiliza list comprehension para generar una lista que contenga todos los números pares en el rango del 1 al 20.\n"
   ]
  },
  {
   "cell_type": "code",
   "execution_count": 7,
   "metadata": {},
   "outputs": [
    {
     "name": "stdout",
     "output_type": "stream",
     "text": [
      "[2, 4, 6, 8, 10, 12, 14, 16, 18, 20]\n"
     ]
    }
   ],
   "source": [
    "pares = []\n",
    "\n",
    "for i in range(1,21):\n",
    "    if i%2 == 0:\n",
    "        pares.append(i)\n",
    "\n",
    "print(pares)"
   ]
  },
  {
   "cell_type": "code",
   "execution_count": 5,
   "metadata": {},
   "outputs": [
    {
     "name": "stdout",
     "output_type": "stream",
     "text": [
      "[2, 4, 6, 8, 10, 12, 14, 16, 18, 20]\n"
     ]
    }
   ],
   "source": [
    "pares = [x for x in range(1,21) if x%2== 0]\n",
    "\n",
    "print(pares)"
   ]
  },
  {
   "cell_type": "markdown",
   "metadata": {},
   "source": [
    "2. Obtener una lista de las vocales en una cadena de texto.\n",
    "   * Descripción: Utiliza list comprehension para crear una lista que contenga todas las vocales presentes en una cadena de texto (sin repetición)."
   ]
  },
  {
   "cell_type": "code",
   "execution_count": 29,
   "metadata": {},
   "outputs": [
    {
     "name": "stdout",
     "output_type": "stream",
     "text": [
      "{'i', 'o', 'e', 'a'}\n"
     ]
    }
   ],
   "source": [
    "cadena = \"Hay más cosas en el cielo\"\n",
    "vocal = \"a\", \"e\", \"i\", \"o\", \"u\"\n",
    "\n",
    "vocales = set([x for x in (cadena) if x == \"a\" or x == \"e\" or x == \"i\" or x == \"o\" or x == \"u\"])\n",
    "\n",
    "print(vocales)"
   ]
  },
  {
   "cell_type": "markdown",
   "metadata": {},
   "source": [
    "3. Filtrar los números positivos de una lista y calcular su cuadrado.\n",
    "   * Descripción: Utiliza list comprehension para filtrar los números positivos de una lista y calcular el cuadrado de cada uno."
   ]
  },
  {
   "cell_type": "code",
   "execution_count": 37,
   "metadata": {},
   "outputs": [
    {
     "name": "stdout",
     "output_type": "stream",
     "text": [
      "[1, 25, 64, 841, 16]\n"
     ]
    }
   ],
   "source": [
    "numeros = [1, 5, 8, 29, 4, -1, -4, -6, -9]\n",
    "\n",
    "total = [x**2 for x in numeros if x>0]\n",
    "\n",
    "print(total)"
   ]
  },
  {
   "cell_type": "markdown",
   "metadata": {},
   "source": [
    "## **Ejercicios try ...except**"
   ]
  },
  {
   "cell_type": "markdown",
   "metadata": {},
   "source": [
    "\n",
    "1. Realizar una búsqueda en una lista y capturar una excepción en caso de valor no encontrado.\n",
    "   * Descripción: Solicita al usuario una lista de nombres y un nombre para buscar en la lista. Intenta encontrar el nombre en la lista y utiliza las sentencias `try` y `except` para capturar la excepción en caso de que el nombre no sea encontrado."
   ]
  },
  {
   "cell_type": "code",
   "execution_count": 40,
   "metadata": {},
   "outputs": [
    {
     "name": "stdout",
     "output_type": "stream",
     "text": [
      "El nombre '' fue encontrado en la posición 0.\n"
     ]
    }
   ],
   "source": [
    "entrada = input(\"Ingresa una lista de nombres separados por comas: \").lower()\n",
    "nombres = entrada.split(\",\")\n",
    "nombres = [n.strip() for n in nombres]\n",
    "buscar = input(\"Ingresa el nombre que deseas buscar: \").lower()\n",
    "\n",
    "try:\n",
    "    indice = nombres.index(buscar)\n",
    "    print(f\"El nombre '{buscar.capitalize()}' fue encontrado en la posición {indice}.\")\n",
    "except ValueError:\n",
    "    print(f\"El nombre '{buscar.capitalize()}' no está en la lista.\")\n",
    "\n",
    "\n"
   ]
  }
 ],
 "metadata": {
  "kernelspec": {
   "display_name": "base",
   "language": "python",
   "name": "python3"
  },
  "language_info": {
   "codemirror_mode": {
    "name": "ipython",
    "version": 3
   },
   "file_extension": ".py",
   "mimetype": "text/x-python",
   "name": "python",
   "nbconvert_exporter": "python",
   "pygments_lexer": "ipython3",
   "version": "3.12.7"
  }
 },
 "nbformat": 4,
 "nbformat_minor": 2
}
