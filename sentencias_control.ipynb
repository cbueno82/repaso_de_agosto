{
 "cells": [
  {
   "cell_type": "markdown",
   "metadata": {},
   "source": [
    "---\n",
    "description: if-else y while\n",
    "---\n",
    "\n",
    "# Sentencias de Control"
   ]
  },
  {
   "cell_type": "markdown",
   "metadata": {},
   "source": [
    "## Ejercicios if-else"
   ]
  },
  {
   "cell_type": "markdown",
   "metadata": {},
   "source": [
    "1. Dado un número, verifica si es positivo, negativo o cero:"
   ]
  },
  {
   "cell_type": "code",
   "execution_count": 10,
   "metadata": {},
   "outputs": [
    {
     "name": "stdout",
     "output_type": "stream",
     "text": [
      "Tu número es positivo.\n"
     ]
    }
   ],
   "source": [
    "number = float(input(\"Introduce un número: \"))\n",
    "\n",
    "if number < 0:\n",
    "    print(\"Tu número es negativo\")\n",
    "elif number > 0:\n",
    "    print(\"Tu número es positivo.\")\n",
    "else:\n",
    "    print(\"Tu número es cero.\")"
   ]
  },
  {
   "cell_type": "markdown",
   "metadata": {},
   "source": [
    "2. Dado un número, verifica si es par o impar:"
   ]
  },
  {
   "cell_type": "code",
   "execution_count": 10,
   "metadata": {},
   "outputs": [
    {
     "name": "stdout",
     "output_type": "stream",
     "text": [
      "Es par.\n"
     ]
    }
   ],
   "source": [
    "number2 = float(input(\"Introduce un número: \"))\n",
    "\n",
    "if number2 % 2 == 0:\n",
    "    print(\"Es par.\")\n",
    "\n",
    "else:\n",
    "    print(\"Es impar.\")\n",
    "    "
   ]
  },
  {
   "cell_type": "markdown",
   "metadata": {},
   "source": [
    "3. Dada la calificación de un estudiante en un examen, verifica si aprobó o suspendió (si la calificación es mayor o igual a 60 se considera aprobado):"
   ]
  },
  {
   "cell_type": "code",
   "execution_count": 5,
   "metadata": {},
   "outputs": [
    {
     "name": "stdout",
     "output_type": "stream",
     "text": [
      "¡Aprobado!\n"
     ]
    }
   ],
   "source": [
    "calificacion = float(input(\"¿Qué nota tiene esta persona? \"))\n",
    "\n",
    "if calificacion >= 60: \n",
    "    print(\"¡Aprobado!\")\n",
    "else:\n",
    "    print(\"¡Suspenso!\")"
   ]
  },
  {
   "cell_type": "markdown",
   "metadata": {},
   "source": [
    "4. Dados dos números, encuentra el máximo entre ellos:"
   ]
  },
  {
   "cell_type": "code",
   "execution_count": 14,
   "metadata": {},
   "outputs": [
    {
     "name": "stdout",
     "output_type": "stream",
     "text": [
      "El máximo es 1251243.0\n"
     ]
    }
   ],
   "source": [
    "a = float(input(\"Primer número: \"))\n",
    "b = float(input(\"Segundo número: \"))\n",
    "\n",
    "if a > b:\n",
    "    maximo = a\n",
    "    print(f\"El máximo es {maximo}\")\n",
    "else:\n",
    "    maximo = b\n",
    "    print(f\"El máximo es {maximo}\")"
   ]
  },
  {
   "cell_type": "markdown",
   "metadata": {},
   "source": [
    "5. Dada una letra, verifica si es una vocal o una consonante:"
   ]
  },
  {
   "cell_type": "code",
   "execution_count": 18,
   "metadata": {},
   "outputs": [
    {
     "name": "stdout",
     "output_type": "stream",
     "text": [
      "U es una vocal.\n"
     ]
    }
   ],
   "source": [
    "letra = input(\"Inserta una letra\").capitalize()\n",
    "vocales = [\"A\", \"E\", \"I\", \"O\", \"U\"]\n",
    "\n",
    "if letra in vocales:\n",
    "    print(f\"{letra} es una vocal.\")\n",
    "else:\n",
    "    print(f\"{letra} es una consonante.\")\n"
   ]
  },
  {
   "cell_type": "markdown",
   "metadata": {},
   "source": [
    "6.  Dado el monto total de una compra, calcula el descuento aplicado según las siguientes condiciones: si el monto es mayor o igual a $100, aplica un descuento del 10%; de lo contrario, no aplica ningún descuento:"
   ]
  },
  {
   "cell_type": "code",
   "execution_count": 19,
   "metadata": {},
   "outputs": [
    {
     "name": "stdout",
     "output_type": "stream",
     "text": [
      "El precio tras el descuento es 110.7.\n"
     ]
    }
   ],
   "source": [
    "total = float(input(\"¿Cuál es el precio total de la compra? \"))\n",
    "\n",
    "if total >= 100:\n",
    "    print(f\"El precio tras el descuento es {total*0.9}.\")\n",
    "else:\n",
    "    print(f\"No hay ningún descuento, el precio es {total}.\")"
   ]
  },
  {
   "cell_type": "markdown",
   "metadata": {},
   "source": [
    "7. Dado un año, verifica si es bisiesto o no (un año es bisiesto si es divisible entre 4, excepto aquellos divisibles entre 100 pero no entre 400):"
   ]
  },
  {
   "cell_type": "code",
   "execution_count": 33,
   "metadata": {},
   "outputs": [
    {
     "name": "stdout",
     "output_type": "stream",
     "text": [
      "Este número es bisiesto.\n"
     ]
    }
   ],
   "source": [
    "anno = int(input(\"Introduce el año: \"))\n",
    "\n",
    "if anno % 4 == 0:\n",
    "    if anno % 100 == 0:\n",
    "        if anno % 400 != 0:\n",
    "            print(\"Este año no es bisiesto.\")\n",
    "        else:\n",
    "            print(\"Este año es bisiesto.\")\n",
    "    else:\n",
    "        print(\"Este año es bisiesto.\")\n",
    "else:\n",
    "    print(\"Este año no es bisiesto.\")"
   ]
  },
  {
   "cell_type": "code",
   "execution_count": null,
   "metadata": {},
   "outputs": [],
   "source": [
    "# simplificación:\n",
    "\n",
    "anno = int(input(\"Introduce el año: \"))\n",
    "\n",
    "if (anno % 4 == 0 and anno % 100 != 0) or (anno % 400 == 0):\n",
    "    print(\"Este año es bisiesto.\")\n",
    "else:\n",
    "    print(\"Este año no es bisiesto.\")"
   ]
  },
  {
   "cell_type": "markdown",
   "metadata": {},
   "source": [
    "8. Dada una edad, asigna una categoría según las siguientes condiciones: si la edad es menor de 18, la categoría es \"Menor de edad\"; si la edad está entre 18 y 64 (incluyendo ambos), la categoría es \"Adulto\"; de lo contrario, la categoría es \"Adulto mayor\":"
   ]
  },
  {
   "cell_type": "code",
   "execution_count": 38,
   "metadata": {},
   "outputs": [
    {
     "name": "stdout",
     "output_type": "stream",
     "text": [
      "Adulto\n"
     ]
    }
   ],
   "source": [
    "edad = int(input(\"¿Qué edad tienes? \"))\n",
    "\n",
    "if edad < 18:\n",
    "    print (\"Menor de edad.\")\n",
    "elif edad >= 18 and edad <= 64:\n",
    "    print (\"Adulto\")\n",
    "else:\n",
    "    print(\"Viejo.\")"
   ]
  },
  {
   "cell_type": "markdown",
   "metadata": {},
   "source": [
    "9. Dados tres números, verifica si forman un triángulo rectángulo (si se cumple el teorema de Pitágoras):"
   ]
  },
  {
   "cell_type": "code",
   "execution_count": 45,
   "metadata": {},
   "outputs": [
    {
     "name": "stdout",
     "output_type": "stream",
     "text": [
      "Es un triángulo rectángulo.\n"
     ]
    }
   ],
   "source": [
    "cateto1 = int(input(\"Introduce el cateto 1: \"))\n",
    "cateto2 = int(input(\"Introduce el cateto 2: \"))\n",
    "hipotenusa = int(input(\"Ahora introduce la hipotenusa: \"))\n",
    "\n",
    "if cateto1**2 + cateto2**2 == hipotenusa**2:\n",
    "    print(\"Es un triángulo rectángulo.\")\n",
    "else:\n",
    "    print(\"No es un triángulo rectángulo.\")"
   ]
  },
  {
   "cell_type": "markdown",
   "metadata": {},
   "source": [
    "10. Dada una puntuación, asigna una calificación según las siguientes condiciones: si la puntuación es mayor o igual a 90, la calificación es \"A\"; si es mayor o igual a 80, la calificación es \"B\"; si es mayor o igual a 70, la calificación es \"C\"; si es mayor o igual a 60, la calificación es \"D\"; de lo contrario, la calificación es \"F\":"
   ]
  },
  {
   "cell_type": "code",
   "execution_count": 49,
   "metadata": {},
   "outputs": [
    {
     "name": "stdout",
     "output_type": "stream",
     "text": [
      "F.\n"
     ]
    }
   ],
   "source": [
    "puntuacion = int(input(\"Introduce la puntuación: \"))\n",
    "\n",
    "if puntuacion >= 90:\n",
    "    print(\"A.\")\n",
    "elif puntuacion >= 80:\n",
    "    print(\"B.\")\n",
    "elif puntuacion >= 70:\n",
    "    print(\"C.\")\n",
    "elif puntuacion >= 60:\n",
    "    print(\"D.\")\n",
    "else:\n",
    "    print(\"F.\")"
   ]
  },
  {
   "cell_type": "markdown",
   "metadata": {},
   "source": [
    "11. Dados el peso (en kg) y la altura (en metros) de una persona, calcula su IMC y categorízalo según las siguientes condiciones: si el IMC es menor a 18.5, es \"Bajo peso\"; si está entre 18.5 y 24.9 (inclusive), es \"Peso normal\"; si está entre 25 y 29.9 (inclusive), es \"Sobrepeso\"; de lo contrario, es \"Obesidad\":"
   ]
  },
  {
   "cell_type": "code",
   "execution_count": 54,
   "metadata": {},
   "outputs": [
    {
     "name": "stdout",
     "output_type": "stream",
     "text": [
      "IMC = 30.311418685121108. Obesidad.\n"
     ]
    }
   ],
   "source": [
    "peso = float(input(\"¿Cuál es tu peso? \"))\n",
    "altura = float(input(\"¿Y tu altura (en metros)? \"))\n",
    "\n",
    "if peso/altura**2 < 18.5:\n",
    "    resultado = peso/altura**2\n",
    "    print(f\"IMC = {resultado}. Bajo peso.\")\n",
    "elif peso/altura**2 >= 18.5 and peso/altura**2 <= 24.9:\n",
    "    resultado = peso/altura**2\n",
    "    print(f\"IMC = {resultado}.Peso normal.\")\n",
    "elif peso/altura**2 >= 25 and peso/altura**2 <= 29.9:\n",
    "    resultado = peso/altura**2\n",
    "    print(f\"IMC = {resultado}. Sobrepeso.\")\n",
    "else:\n",
    "    resultado = peso/altura**2\n",
    "    print(f\"IMC = {resultado}. Obesidad.\")"
   ]
  },
  {
   "cell_type": "markdown",
   "metadata": {},
   "source": [
    "12. Dados tres números, encuentra el mayor entre ellos:"
   ]
  },
  {
   "cell_type": "code",
   "execution_count": 56,
   "metadata": {},
   "outputs": [
    {
     "name": "stdout",
     "output_type": "stream",
     "text": [
      "345345 es el número mayor.\n"
     ]
    }
   ],
   "source": [
    "numero1 = int(input(\"Introduce un número: \"))\n",
    "numero2 = int(input(\"Ahora otro: \"))\n",
    "numero3 = int(input(\"Y ahora el último: \"))\n",
    "\n",
    "if numero1 > numero2 and numero1 > numero3:\n",
    "    print(f\"{numero1} es el número mayor.\")\n",
    "elif numero2 > numero1 and numero2 > numero3:\n",
    "    print(f\"{numero2} es el número mayor.\")\n",
    "else: \n",
    "    print(f\"{numero3} es el número mayor.\")"
   ]
  },
  {
   "cell_type": "markdown",
   "metadata": {},
   "source": [
    "13. Dados el día, el mes y el año de una fecha, verifica si la fecha es válida: "
   ]
  },
  {
   "cell_type": "code",
   "execution_count": 60,
   "metadata": {},
   "outputs": [
    {
     "name": "stdout",
     "output_type": "stream",
     "text": [
      "8/5/1990 es una fecha válida.\n"
     ]
    }
   ],
   "source": [
    "dia = int(input(\"Introduce el día: \"))\n",
    "mes = int(input(\"Introduce el mes: \"))\n",
    "anno = int(input(\"Introduce el año: \"))\n",
    "\n",
    "if mes < 1 or mes > 12:\n",
    "    print(\"Eso no es un mes.\")\n",
    "else:\n",
    "    if mes in [1, 3, 5, 7, 8, 10, 12]:\n",
    "        max_dias = 31\n",
    "    elif mes in [4, 6, 9, 11]:\n",
    "        max_dias = 30\n",
    "    elif mes == 2:\n",
    "        if (anno % 4 == 0 and anno % 100 != 0) or (anno % 400 == 0):\n",
    "            max_dias = 29\n",
    "        else:\n",
    "            max_dias = 28\n",
    "    if dia < 1 or dia > max_dias:\n",
    "        print(\"Ese día no existe.\")\n",
    "    else:\n",
    "        print(f\"{dia}/{mes}/{anno} es una fecha válida.\")\n"
   ]
  },
  {
   "cell_type": "markdown",
   "metadata": {},
   "source": [
    "## Ejercicios while"
   ]
  },
  {
   "cell_type": "markdown",
   "metadata": {},
   "source": [
    "1. Utiliza un bucle `while` para calcular la suma de los primeros 10 números naturales (1 + 2 + 3 + ... + 10):"
   ]
  },
  {
   "cell_type": "code",
   "execution_count": 75,
   "metadata": {},
   "outputs": [
    {
     "name": "stdout",
     "output_type": "stream",
     "text": [
      "El total es 55\n"
     ]
    }
   ],
   "source": [
    "numeros= 0\n",
    "total = 0\n",
    "\n",
    "while numeros < 10:\n",
    "    numeros += 1\n",
    "    total += numeros\n",
    "print(f\"El total es {total}\")"
   ]
  },
  {
   "cell_type": "markdown",
   "metadata": {},
   "source": [
    "2. Crea un juego de adivinanza en el que el jugador tiene que adivinar un número secreto (tendrá que ser entre el 0 y el 10). Utiliza un bucle `while` para permitir múltiples intentos hasta que el jugador adivine correctamente:"
   ]
  },
  {
   "cell_type": "code",
   "execution_count": null,
   "metadata": {},
   "outputs": [],
   "source": [
    "import random\n",
    "secreto = random.randint(1, 101)\n",
    "numero = int(input(\"Intenta adivinar en qué numero estoy pensando del 0 al 100: \"))\n",
    "\n",
    "while numero != secreto:\n",
    "    if numero < secreto:\n",
    "        print(f\"{numero} es menor que el número que estoy pensando.\")\n",
    "    else:\n",
    "        print(f\"{numero} es mayor que el numero que estoy pensando\")\n",
    "    numero = int(input(\"Intenta adivinar en qué numero estoy pensando del 0 al 100: \"))\n",
    "print(f\"¡Efectivamente, {numero} era el número secreto!\")"
   ]
  }
 ],
 "metadata": {
  "kernelspec": {
   "display_name": "base",
   "language": "python",
   "name": "python3"
  },
  "language_info": {
   "codemirror_mode": {
    "name": "ipython",
    "version": 3
   },
   "file_extension": ".py",
   "mimetype": "text/x-python",
   "name": "python",
   "nbconvert_exporter": "python",
   "pygments_lexer": "ipython3",
   "version": "3.12.7"
  }
 },
 "nbformat": 4,
 "nbformat_minor": 2
}
