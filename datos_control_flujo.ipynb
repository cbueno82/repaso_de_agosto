{
 "cells": [
  {
   "cell_type": "markdown",
   "metadata": {},
   "source": [
    "# Repaso Python (estructuras de datos y control de flujo)"
   ]
  },
  {
   "cell_type": "markdown",
   "metadata": {},
   "source": [
    "## Sesión de Repaso (listas, tuplas, sets, diccionarios y sentencias de control)"
   ]
  },
  {
   "cell_type": "markdown",
   "metadata": {},
   "source": [
    "### Listas"
   ]
  },
  {
   "cell_type": "markdown",
   "metadata": {},
   "source": [
    "1. **Crear una lista:** Crea una lista con cinco colores diferentes."
   ]
  },
  {
   "cell_type": "code",
   "execution_count": 2,
   "metadata": {},
   "outputs": [],
   "source": [
    "colores = [\"morado\", \"amarillo\", \"rojo\", \"verde\", \"azul\"]"
   ]
  },
  {
   "cell_type": "markdown",
   "metadata": {},
   "source": [
    "2. **Acceder a elementos:** Accede al tercer elemento de la lista de colores."
   ]
  },
  {
   "cell_type": "code",
   "execution_count": 3,
   "metadata": {},
   "outputs": [
    {
     "data": {
      "text/plain": [
       "'rojo'"
      ]
     },
     "execution_count": 3,
     "metadata": {},
     "output_type": "execute_result"
    }
   ],
   "source": [
    "colores[2]"
   ]
  },
  {
   "cell_type": "markdown",
   "metadata": {},
   "source": [
    "3. **Modificar elementos:** Cambia el segundo color de la lista por otro de tu elección."
   ]
  },
  {
   "cell_type": "code",
   "execution_count": 4,
   "metadata": {},
   "outputs": [
    {
     "data": {
      "text/plain": [
       "['morado', 'gualda', 'rojo', 'verde', 'azul']"
      ]
     },
     "execution_count": 4,
     "metadata": {},
     "output_type": "execute_result"
    }
   ],
   "source": [
    "colores[1] = \"gualda\"\n",
    "colores"
   ]
  },
  {
   "cell_type": "markdown",
   "metadata": {},
   "source": [
    "4. **Agregar elementos:** Agrega dos colores nuevos a la lista."
   ]
  },
  {
   "cell_type": "code",
   "execution_count": 5,
   "metadata": {},
   "outputs": [
    {
     "name": "stdout",
     "output_type": "stream",
     "text": [
      "['morado', 'gualda', 'rojo', 'verde', 'azul', 'marrón', 'celeste']\n"
     ]
    }
   ],
   "source": [
    "colores.extend([\"marrón\", \"celeste\"])\n",
    "print(colores)"
   ]
  },
  {
   "cell_type": "markdown",
   "metadata": {},
   "source": [
    "5. **Eliminar elementos:** Elimina el cuarto color de la lista."
   ]
  },
  {
   "cell_type": "code",
   "execution_count": 6,
   "metadata": {},
   "outputs": [
    {
     "data": {
      "text/plain": [
       "'verde'"
      ]
     },
     "execution_count": 6,
     "metadata": {},
     "output_type": "execute_result"
    }
   ],
   "source": [
    "colores.pop(3)"
   ]
  },
  {
   "cell_type": "markdown",
   "metadata": {},
   "source": [
    "6. **Longitud de la lista:** Encuentra la longitud de la lista de colores."
   ]
  },
  {
   "cell_type": "code",
   "execution_count": 7,
   "metadata": {},
   "outputs": [
    {
     "data": {
      "text/plain": [
       "6"
      ]
     },
     "execution_count": 7,
     "metadata": {},
     "output_type": "execute_result"
    }
   ],
   "source": [
    "len(colores)"
   ]
  },
  {
   "cell_type": "markdown",
   "metadata": {},
   "source": [
    "7. **Ordenar la lista:** Ordena la lista de colores en orden alfabético."
   ]
  },
  {
   "cell_type": "code",
   "execution_count": 8,
   "metadata": {},
   "outputs": [
    {
     "data": {
      "text/plain": [
       "['azul', 'celeste', 'gualda', 'marrón', 'morado', 'rojo']"
      ]
     },
     "execution_count": 8,
     "metadata": {},
     "output_type": "execute_result"
    }
   ],
   "source": [
    "sorted(colores)"
   ]
  },
  {
   "cell_type": "markdown",
   "metadata": {},
   "source": [
    "8. **Listas anidadas:** Crea una lista de dos sublistas, cada una con tres nombres de frutas."
   ]
  },
  {
   "cell_type": "code",
   "execution_count": 14,
   "metadata": {},
   "outputs": [
    {
     "name": "stdout",
     "output_type": "stream",
     "text": [
      "[['fresas', 'moras', 'arándanos'], ['piña', 'mango', 'cantalupo']]\n"
     ]
    },
    {
     "data": {
      "text/plain": [
       "2"
      ]
     },
     "execution_count": 14,
     "metadata": {},
     "output_type": "execute_result"
    }
   ],
   "source": [
    "nido_de_frutas = [[\"fresas\", \"moras\", \"arándanos\"], [\"piña\", \"mango\", \"cantalupo\"]] # si no metemos [], es una tupla\n",
    "print(nido_de_frutas)\n",
    "len(nido_de_frutas)"
   ]
  },
  {
   "cell_type": "markdown",
   "metadata": {},
   "source": [
    "9. **Concatenar listas:** Concatena las dos sublistas en una sola lista de frutas."
   ]
  },
  {
   "cell_type": "code",
   "execution_count": 10,
   "metadata": {},
   "outputs": [
    {
     "name": "stdout",
     "output_type": "stream",
     "text": [
      "['fresas', 'moras', 'arándanos', 'piña', 'mango', 'cantalupo']\n"
     ]
    },
    {
     "data": {
      "text/plain": [
       "6"
      ]
     },
     "execution_count": 10,
     "metadata": {},
     "output_type": "execute_result"
    }
   ],
   "source": [
    "bayas = [\"fresas\", \"moras\", \"arándanos\"]\n",
    "tropical = [\"piña\", \"mango\", \"cantalupo\"]\n",
    "frutas_concatenadas = bayas + tropical\n",
    "print(frutas_concatenadas)\n",
    "len(frutas_concatenadas)"
   ]
  },
  {
   "cell_type": "markdown",
   "metadata": {},
   "source": [
    "10. **Repetir elementos:** Repite la lista de frutas tres veces para obtener una lista más larga."
   ]
  },
  {
   "cell_type": "code",
   "execution_count": 11,
   "metadata": {},
   "outputs": [
    {
     "data": {
      "text/plain": [
       "['fresas',\n",
       " 'moras',\n",
       " 'arándanos',\n",
       " 'fresas',\n",
       " 'moras',\n",
       " 'arándanos',\n",
       " 'fresas',\n",
       " 'moras',\n",
       " 'arándanos']"
      ]
     },
     "execution_count": 11,
     "metadata": {},
     "output_type": "execute_result"
    }
   ],
   "source": [
    "bayas * 3"
   ]
  },
  {
   "cell_type": "markdown",
   "metadata": {},
   "source": [
    "11. **Acceder a la primera lista de frutas:** Crea una variable llamada `primera_lista` y asigna la primera lista de frutas a esta variable."
   ]
  },
  {
   "cell_type": "code",
   "execution_count": 45,
   "metadata": {},
   "outputs": [
    {
     "data": {
      "text/plain": [
       "[['fresas', 'moras', 'arándanos'], ['piña', 'mango', 'cantalupo']]"
      ]
     },
     "execution_count": 45,
     "metadata": {},
     "output_type": "execute_result"
    }
   ],
   "source": [
    "primera_lista = nido_de_frutas.copy()\n",
    "primera_lista"
   ]
  },
  {
   "cell_type": "markdown",
   "metadata": {},
   "source": [
    "12. **Acceder a la segunda lista de frutas:** Crea una variable llamada `segunda_lista` y asigna la segunda lista de frutas a esta variable."
   ]
  },
  {
   "cell_type": "code",
   "execution_count": 18,
   "metadata": {},
   "outputs": [
    {
     "data": {
      "text/plain": [
       "['fresas', 'moras', 'arándanos']"
      ]
     },
     "execution_count": 18,
     "metadata": {},
     "output_type": "execute_result"
    }
   ],
   "source": [
    "segunda_lista = bayas.copy()\n",
    "segunda_lista"
   ]
  },
  {
   "cell_type": "markdown",
   "metadata": {},
   "source": [
    "13. **Acceder a la primera fruta de la primera lista:** Crea una variable llamada `primera_fruta` y asigna la primera fruta de la primera lista de frutas a esta variable."
   ]
  },
  {
   "cell_type": "code",
   "execution_count": 23,
   "metadata": {},
   "outputs": [
    {
     "name": "stdout",
     "output_type": "stream",
     "text": [
      "['fresas', 'moras', 'arándanos']\n",
      "fresas\n"
     ]
    }
   ],
   "source": [
    "primera_fruta_primera = primera_lista[0]\n",
    "primera_fruta_segunda = primera_lista[0][0]\n",
    "print(primera_fruta_primera)\n",
    "print(primera_fruta_segunda)"
   ]
  },
  {
   "cell_type": "markdown",
   "metadata": {},
   "source": [
    "14. **Acceder a la última fruta de la segunda lista:** Crea una variable llamada `ultima_fruta` y asigna la última fruta de la segunda lista de frutas a esta variable."
   ]
  },
  {
   "cell_type": "code",
   "execution_count": 25,
   "metadata": {},
   "outputs": [
    {
     "data": {
      "text/plain": [
       "'arándanos'"
      ]
     },
     "execution_count": 25,
     "metadata": {},
     "output_type": "execute_result"
    }
   ],
   "source": [
    "ultima_fruta = segunda_lista[-1]\n",
    "ultima_fruta"
   ]
  },
  {
   "cell_type": "markdown",
   "metadata": {},
   "source": [
    "15. **Acceder a la segunda fruta de la primera lista:** Crea una variable llamada `segunda_fruta` y asigna la segunda fruta de la primera lista de frutas a esta variable."
   ]
  },
  {
   "cell_type": "code",
   "execution_count": 26,
   "metadata": {},
   "outputs": [
    {
     "data": {
      "text/plain": [
       "'moras'"
      ]
     },
     "execution_count": 26,
     "metadata": {},
     "output_type": "execute_result"
    }
   ],
   "source": [
    "segunda_fruta = primera_lista[0][1]\n",
    "segunda_fruta"
   ]
  },
  {
   "cell_type": "markdown",
   "metadata": {},
   "source": [
    "16. **Acceder a la última fruta de la primera lista:** Crea una variable llamada `ultima_fruta_primera_lista` y asigna la última fruta de la primera lista de frutas a esta variable."
   ]
  },
  {
   "cell_type": "code",
   "execution_count": 29,
   "metadata": {},
   "outputs": [
    {
     "data": {
      "text/plain": [
       "'cantalupo'"
      ]
     },
     "execution_count": 29,
     "metadata": {},
     "output_type": "execute_result"
    }
   ],
   "source": [
    "ultima_fruta_primera_lista = primera_lista[-1][-1]\n",
    "ultima_fruta_primera_lista"
   ]
  },
  {
   "cell_type": "markdown",
   "metadata": {},
   "source": [
    "17. **Acceder a la longitud de la segunda lista de frutas:** Crea una variable llamada `longitud_segunda_lista` y asigna la longitud (número de elementos) de la segunda lista de frutas a esta variable."
   ]
  },
  {
   "cell_type": "code",
   "execution_count": 31,
   "metadata": {},
   "outputs": [
    {
     "name": "stdout",
     "output_type": "stream",
     "text": [
      "3\n"
     ]
    },
    {
     "data": {
      "text/plain": [
       "int"
      ]
     },
     "execution_count": 31,
     "metadata": {},
     "output_type": "execute_result"
    }
   ],
   "source": [
    "longitud_segunda_lista = len(segunda_lista)\n",
    "print(longitud_segunda_lista)\n",
    "type(longitud_segunda_lista)"
   ]
  },
  {
   "cell_type": "markdown",
   "metadata": {},
   "source": [
    "18. **Acceder a una porción de la segunda lista (slicing):** Crea una variable llamada `porcion_segunda_lista` y asigna los dos primeros elementos de la segunda lista de frutas a esta variable utilizando el slicing."
   ]
  },
  {
   "cell_type": "code",
   "execution_count": 33,
   "metadata": {},
   "outputs": [
    {
     "data": {
      "text/plain": [
       "['fresas', 'moras']"
      ]
     },
     "execution_count": 33,
     "metadata": {},
     "output_type": "execute_result"
    }
   ],
   "source": [
    "porcion_segunda_lista = segunda_lista[0:2] # el 2 no cuenta, saca 0 y 1\n",
    "porcion_segunda_lista"
   ]
  },
  {
   "cell_type": "markdown",
   "metadata": {},
   "source": [
    "19. **Cambiar la segunda fruta de la segunda lista:** Cambia la segunda fruta de la segunda lista de frutas a \"ciruela\"."
   ]
  },
  {
   "cell_type": "code",
   "execution_count": 35,
   "metadata": {},
   "outputs": [
    {
     "data": {
      "text/plain": [
       "['fresas', 'ciruela', 'arándanos']"
      ]
     },
     "execution_count": 35,
     "metadata": {},
     "output_type": "execute_result"
    }
   ],
   "source": [
    "segunda_lista[1] = \"ciruela\"\n",
    "segunda_lista"
   ]
  },
  {
   "cell_type": "markdown",
   "metadata": {},
   "source": [
    "20. **Agregar una nueva fruta a la primera lista:** Agrega una nueva fruta, \"kiwi\", a la primera lista de frutas."
   ]
  },
  {
   "cell_type": "code",
   "execution_count": 46,
   "metadata": {},
   "outputs": [],
   "source": [
    "primera_lista[1].append(\"kiwi\")"
   ]
  },
  {
   "cell_type": "code",
   "execution_count": 47,
   "metadata": {},
   "outputs": [
    {
     "data": {
      "text/plain": [
       "[['fresas', 'moras', 'arándanos'], ['piña', 'mango', 'cantalupo', 'kiwi']]"
      ]
     },
     "execution_count": 47,
     "metadata": {},
     "output_type": "execute_result"
    }
   ],
   "source": [
    "primera_lista"
   ]
  },
  {
   "cell_type": "markdown",
   "metadata": {},
   "source": [
    "### Tuplas"
   ]
  },
  {
   "cell_type": "markdown",
   "metadata": {},
   "source": [
    "1. **Crear una tupla:** Crea una tupla llamada `mi_tupla` con algunos elementos de tu elección."
   ]
  },
  {
   "cell_type": "code",
   "execution_count": 48,
   "metadata": {},
   "outputs": [
    {
     "data": {
      "text/plain": [
       "tuple"
      ]
     },
     "execution_count": 48,
     "metadata": {},
     "output_type": "execute_result"
    }
   ],
   "source": [
    "mi_tupla = (\"duermevela\", \"editorial\", 40, 20.5, \"septiembre\", 6.22, \"reloj\")\n",
    "type(mi_tupla)"
   ]
  },
  {
   "cell_type": "markdown",
   "metadata": {},
   "source": [
    "2. **Acceder al primer elemento:** Accede al primer elemento de `mi_tupla` y guárdalo en una variable llamada `primer_elemento`."
   ]
  },
  {
   "cell_type": "code",
   "execution_count": 50,
   "metadata": {},
   "outputs": [
    {
     "data": {
      "text/plain": [
       "'duermevela'"
      ]
     },
     "execution_count": 50,
     "metadata": {},
     "output_type": "execute_result"
    }
   ],
   "source": [
    "primer_elemento = mi_tupla[0]\n",
    "primer_elemento"
   ]
  },
  {
   "cell_type": "markdown",
   "metadata": {},
   "source": [
    "3. **Acceder al último elemento:** Accede al último elemento de `mi_tupla` y guárdalo en una variable llamada `ultimo_elemento`."
   ]
  },
  {
   "cell_type": "code",
   "execution_count": 52,
   "metadata": {},
   "outputs": [
    {
     "data": {
      "text/plain": [
       "'reloj'"
      ]
     },
     "execution_count": 52,
     "metadata": {},
     "output_type": "execute_result"
    }
   ],
   "source": [
    "ultimo_elemento = mi_tupla[-1]\n",
    "ultimo_elemento"
   ]
  },
  {
   "cell_type": "markdown",
   "metadata": {},
   "source": [
    "4. **Acceder a un rango de elementos:** Utilizando el slicing, crea una nueva tupla llamada `sub_tupla` que contenga los elementos desde el segundo hasta el cuarto de `mi_tupla`."
   ]
  },
  {
   "cell_type": "code",
   "execution_count": 54,
   "metadata": {},
   "outputs": [
    {
     "data": {
      "text/plain": [
       "('editorial', 40, 20.5, 'septiembre')"
      ]
     },
     "execution_count": 54,
     "metadata": {},
     "output_type": "execute_result"
    }
   ],
   "source": [
    "sub_tupla = mi_tupla[1:5]\n",
    "sub_tupla"
   ]
  },
  {
   "cell_type": "markdown",
   "metadata": {},
   "source": [
    "5. **Concatenar dos tuplas:** Crea otra tupla llamada `otra_tupla` y concaténala con `mi_tupla` para formar una nueva tupla llamada `tupla_concatenada`."
   ]
  },
  {
   "cell_type": "code",
   "execution_count": 55,
   "metadata": {},
   "outputs": [
    {
     "data": {
      "text/plain": [
       "('duermevela',\n",
       " 'editorial',\n",
       " 40,\n",
       " 20.5,\n",
       " 'septiembre',\n",
       " 6.22,\n",
       " 'reloj',\n",
       " 11,\n",
       " 8,\n",
       " 88,\n",
       " 90,\n",
       " 10,\n",
       " 'hola',\n",
       " 'adiós')"
      ]
     },
     "execution_count": 55,
     "metadata": {},
     "output_type": "execute_result"
    }
   ],
   "source": [
    "otra_tupla = (11, 8, 88, 90, 10, \"hola\", \"adiós\")\n",
    "tupla_concatenada = mi_tupla + otra_tupla\n",
    "tupla_concatenada"
   ]
  },
  {
   "cell_type": "markdown",
   "metadata": {},
   "source": [
    "6. **Encontrar la longitud:** Encuentra la longitud de `tupla_concatenada` y guárdala en una variable llamada `longitud`."
   ]
  },
  {
   "cell_type": "code",
   "execution_count": 57,
   "metadata": {},
   "outputs": [
    {
     "data": {
      "text/plain": [
       "14"
      ]
     },
     "execution_count": 57,
     "metadata": {},
     "output_type": "execute_result"
    }
   ],
   "source": [
    "longitud = len(tupla_concatenada)\n",
    "longitud"
   ]
  },
  {
   "cell_type": "markdown",
   "metadata": {},
   "source": [
    "7. **Buscar un elemento:** Verifica si un elemento específico está presente en `mi_tupla`, por ejemplo, \"manzana\"."
   ]
  },
  {
   "cell_type": "code",
   "execution_count": 61,
   "metadata": {},
   "outputs": [
    {
     "name": "stdout",
     "output_type": "stream",
     "text": [
      "False\n",
      "True\n"
     ]
    }
   ],
   "source": [
    "print(\"manzana\" in mi_tupla)\n",
    "print(\"duermevela\" in mi_tupla)"
   ]
  },
  {
   "cell_type": "markdown",
   "metadata": {},
   "source": [
    "8. **Contar elementos:** Cuenta cuántas veces aparece un elemento específico en `mi_tupla`, por ejemplo, cuántas veces aparece \"pera\"."
   ]
  },
  {
   "cell_type": "code",
   "execution_count": 63,
   "metadata": {},
   "outputs": [
    {
     "name": "stdout",
     "output_type": "stream",
     "text": [
      "0\n",
      "1\n"
     ]
    }
   ],
   "source": [
    "print(mi_tupla.count(\"pera\"))\n",
    "print(mi_tupla.count(\"duermevela\"))"
   ]
  },
  {
   "cell_type": "markdown",
   "metadata": {},
   "source": [
    "9. **Desempaquetar una tupla:** Si tienes una tupla de nombres `(nombre, apellido)`, desempaqueta los valores en dos variables separadas."
   ]
  },
  {
   "cell_type": "code",
   "execution_count": 69,
   "metadata": {},
   "outputs": [
    {
     "name": "stdout",
     "output_type": "stream",
     "text": [
      "('juan', 'maría', 'ernesto', 'horacio')\n",
      "('pérez', 'lópez', 'sevilla', 'aranda')\n"
     ]
    }
   ],
   "source": [
    "tupla_identificacion = (\"juan\", \"pérez\", \"maría\", \"lópez\", \"ernesto\", \"sevilla\", \"horacio\", \"aranda\")\n",
    "tupla_nombres = tupla_identificacion[0::2]\n",
    "tupla_apellidos = tupla_identificacion[1::2]\n",
    "print(tupla_nombres)\n",
    "print(tupla_apellidos)\n"
   ]
  },
  {
   "cell_type": "markdown",
   "metadata": {},
   "source": [
    "10. **Convertir una lista en tupla:** Crea una lista de números y conviértela en una tupla llamada `tupla_desde_lista`."
   ]
  },
  {
   "cell_type": "code",
   "execution_count": 72,
   "metadata": {},
   "outputs": [
    {
     "name": "stdout",
     "output_type": "stream",
     "text": [
      "(1, 2, 3, 4, 5, 123, 53, 63, 10)\n",
      "<class 'list'>\n",
      "<class 'tuple'>\n"
     ]
    }
   ],
   "source": [
    "lista_numerica = [1, 2, 3, 4, 5, 123, 53, 63, 10]\n",
    "tupla_desde_lista = tuple(lista_numerica)\n",
    "print(tupla_desde_lista)\n",
    "print(type(lista_numerica))\n",
    "print(type(tupla_desde_lista))"
   ]
  },
  {
   "cell_type": "markdown",
   "metadata": {},
   "source": [
    "### Diccionarios "
   ]
  },
  {
   "cell_type": "markdown",
   "metadata": {},
   "source": [
    "1. **Crear un diccionario:** Crea un diccionario vacío llamado `mi_diccionario` con una key llamada apellido y que su value sea López."
   ]
  },
  {
   "cell_type": "code",
   "execution_count": 24,
   "metadata": {},
   "outputs": [
    {
     "name": "stdout",
     "output_type": "stream",
     "text": [
      "{'apellido': 'López'}\n",
      "1\n"
     ]
    }
   ],
   "source": [
    "mi_diccionario = {\"apellido\" : \"López\"}\n",
    "print(mi_diccionario)\n",
    "print(len(mi_diccionario))"
   ]
  },
  {
   "cell_type": "markdown",
   "metadata": {},
   "source": [
    "2. **Agregar elementos:** Agrega una clave-valor al diccionario `mi_diccionario`. Por ejemplo, agrega la clave `\"nombre\"` con el valor `\"Juan\"`."
   ]
  },
  {
   "cell_type": "code",
   "execution_count": 25,
   "metadata": {},
   "outputs": [
    {
     "name": "stdout",
     "output_type": "stream",
     "text": [
      "{'apellido': 'López', 'nombre': 'Juan'}\n",
      "<class 'dict'>\n",
      "2\n"
     ]
    }
   ],
   "source": [
    "update = ({\"nombre\" : \"Juan\"})\n",
    "mi_diccionario.update(update)\n",
    "print(mi_diccionario)\n",
    "print(type(update))\n",
    "print(len(mi_diccionario))"
   ]
  },
  {
   "cell_type": "markdown",
   "metadata": {},
   "source": [
    "3. **Acceder a un valor:** Accede al valor correspondiente a la clave `\"nombre\"` en `mi_diccionario`."
   ]
  },
  {
   "cell_type": "code",
   "execution_count": 26,
   "metadata": {},
   "outputs": [
    {
     "data": {
      "text/plain": [
       "'Juan'"
      ]
     },
     "execution_count": 26,
     "metadata": {},
     "output_type": "execute_result"
    }
   ],
   "source": [
    "mi_diccionario.get(\"nombre\")"
   ]
  },
  {
   "cell_type": "markdown",
   "metadata": {},
   "source": [
    "4. **Modificar un valor:** Cambia el valor de la clave `\"nombre\"` a `\"Ana\"`."
   ]
  },
  {
   "cell_type": "code",
   "execution_count": 27,
   "metadata": {},
   "outputs": [
    {
     "name": "stdout",
     "output_type": "stream",
     "text": [
      "{'apellido': 'López', 'nombre': 'Ana'}\n"
     ]
    }
   ],
   "source": [
    "mi_diccionario.update({\"nombre\" : \"Ana\"})\n",
    "print(mi_diccionario)"
   ]
  },
  {
   "cell_type": "markdown",
   "metadata": {},
   "source": [
    "5. **Eliminar un elemento:** Elimina la clave `\"nombre\"` de `mi_diccionario`."
   ]
  },
  {
   "cell_type": "code",
   "execution_count": 28,
   "metadata": {},
   "outputs": [
    {
     "data": {
      "text/plain": [
       "{'apellido': 'López'}"
      ]
     },
     "execution_count": 28,
     "metadata": {},
     "output_type": "execute_result"
    }
   ],
   "source": [
    "mi_diccionario.pop(\"nombre\")\n",
    "mi_diccionario"
   ]
  },
  {
   "cell_type": "markdown",
   "metadata": {},
   "source": [
    "6. **Verificar existencia:** Verifica si la clave `\"apellido\"` existe en `mi_diccionario`."
   ]
  },
  {
   "cell_type": "code",
   "execution_count": 29,
   "metadata": {},
   "outputs": [
    {
     "data": {
      "text/plain": [
       "True"
      ]
     },
     "execution_count": 29,
     "metadata": {},
     "output_type": "execute_result"
    }
   ],
   "source": [
    "\"apellido\" in mi_diccionario"
   ]
  },
  {
   "cell_type": "markdown",
   "metadata": {},
   "source": [
    "7. **Obtener todas las claves:** Obtén una lista de todas las claves en `mi_diccionario`."
   ]
  },
  {
   "cell_type": "code",
   "execution_count": 30,
   "metadata": {},
   "outputs": [
    {
     "data": {
      "text/plain": [
       "dict_keys(['apellido'])"
      ]
     },
     "execution_count": 30,
     "metadata": {},
     "output_type": "execute_result"
    }
   ],
   "source": [
    "mi_diccionario.keys()"
   ]
  },
  {
   "cell_type": "markdown",
   "metadata": {},
   "source": [
    "8. **Obtener todos los valores:** Obtén una lista de todos los valores en `mi_diccionario`."
   ]
  },
  {
   "cell_type": "code",
   "execution_count": 31,
   "metadata": {},
   "outputs": [
    {
     "data": {
      "text/plain": [
       "dict_values(['López'])"
      ]
     },
     "execution_count": 31,
     "metadata": {},
     "output_type": "execute_result"
    }
   ],
   "source": [
    "mi_diccionario.values()"
   ]
  },
  {
   "cell_type": "markdown",
   "metadata": {},
   "source": [
    "9. **Recorrer el diccionario:** Usa un bucle `for` para recorrer y mostrar todas las claves y valores en `mi_diccionario`."
   ]
  },
  {
   "cell_type": "code",
   "execution_count": 32,
   "metadata": {},
   "outputs": [
    {
     "name": "stdout",
     "output_type": "stream",
     "text": [
      "dict_items([('apellido', 'López')])\n"
     ]
    }
   ],
   "source": [
    "for i in mi_diccionario:\n",
    "    print(mi_diccionario.items()) # esto da el problema de que repite todo por cada elemento que hay en el diccionario"
   ]
  },
  {
   "cell_type": "code",
   "execution_count": 34,
   "metadata": {},
   "outputs": [],
   "source": [
    "update2 = ({\"edad\" : \"9\"})\n",
    "mi_diccionario.update(update2)"
   ]
  },
  {
   "cell_type": "code",
   "execution_count": 39,
   "metadata": {},
   "outputs": [
    {
     "name": "stdout",
     "output_type": "stream",
     "text": [
      "apellido López\n",
      "edad 9\n"
     ]
    }
   ],
   "source": [
    "for clave, valor in mi_diccionario.items():\n",
    "    print(clave, valor)"
   ]
  },
  {
   "cell_type": "markdown",
   "metadata": {},
   "source": [
    "10. **Longitud del diccionario:** Calcula la longitud (cantidad de elementos) de `mi_diccionario`."
   ]
  },
  {
   "cell_type": "code",
   "execution_count": 40,
   "metadata": {},
   "outputs": [
    {
     "data": {
      "text/plain": [
       "2"
      ]
     },
     "execution_count": 40,
     "metadata": {},
     "output_type": "execute_result"
    }
   ],
   "source": [
    "len(mi_diccionario)"
   ]
  },
  {
   "cell_type": "markdown",
   "metadata": {},
   "source": [
    "11. **Copiar un diccionario:** Crea una copia de `mi_diccionario` llamada `copia_diccionario`."
   ]
  },
  {
   "cell_type": "code",
   "execution_count": 41,
   "metadata": {},
   "outputs": [],
   "source": [
    "copia_diccionario = mi_diccionario.copy()"
   ]
  },
  {
   "cell_type": "markdown",
   "metadata": {},
   "source": [
    "12. **Eliminar elementos:** Elimina todos los elementos de `copia_diccionario`."
   ]
  },
  {
   "cell_type": "code",
   "execution_count": 42,
   "metadata": {},
   "outputs": [
    {
     "data": {
      "text/plain": [
       "0"
      ]
     },
     "execution_count": 42,
     "metadata": {},
     "output_type": "execute_result"
    }
   ],
   "source": [
    "copia_diccionario.clear()\n",
    "len(copia_diccionario)"
   ]
  },
  {
   "cell_type": "markdown",
   "metadata": {},
   "source": [
    "13. **Combinar diccionarios:** Crea otro diccionario llamado `diccionario_combinado` y combina `mi_diccionario` y `copia_diccionario` en él."
   ]
  },
  {
   "cell_type": "code",
   "execution_count": 46,
   "metadata": {},
   "outputs": [
    {
     "name": "stdout",
     "output_type": "stream",
     "text": [
      "{'apellido': 'López', 'edad': '9'}\n"
     ]
    }
   ],
   "source": [
    "diccionario_combinado = {**mi_diccionario, **copia_diccionario}\n",
    "print(diccionario_combinado)"
   ]
  },
  {
   "cell_type": "markdown",
   "metadata": {},
   "source": [
    "14. **Obtener valor predeterminado:** Intenta acceder a la clave `\"edad\"` en `mi_diccionario`. Si no existe, muestra el valor predeterminado `\"Desconocida\"`."
   ]
  },
  {
   "cell_type": "code",
   "execution_count": 48,
   "metadata": {},
   "outputs": [
    {
     "name": "stdout",
     "output_type": "stream",
     "text": [
      "9\n",
      "Desconocida\n"
     ]
    }
   ],
   "source": [
    "print(mi_diccionario.get(\"edad\", \"Desconocida\"))\n",
    "print(mi_diccionario.get(\"ciudad\", \"Desconocida\"))"
   ]
  },
  {
   "cell_type": "markdown",
   "metadata": {},
   "source": [
    "15. **Clave máxima:** Encuentra la clave con el valor máximo en un diccionario que contenga pares clave-valor numéricos."
   ]
  },
  {
   "cell_type": "code",
   "execution_count": 49,
   "metadata": {},
   "outputs": [],
   "source": [
    "mi_diccionario_numerico = {\n",
    "    \"a\": 10,\n",
    "    \"b\": 20,\n",
    "    \"c\": 30\n",
    "}"
   ]
  },
  {
   "cell_type": "code",
   "execution_count": 54,
   "metadata": {},
   "outputs": [
    {
     "data": {
      "text/plain": [
       "30"
      ]
     },
     "execution_count": 54,
     "metadata": {},
     "output_type": "execute_result"
    }
   ],
   "source": [
    "max(mi_diccionario_numerico.values())"
   ]
  },
  {
   "cell_type": "code",
   "execution_count": 52,
   "metadata": {},
   "outputs": [],
   "source": [
    "diccionario_numerico = {\n",
    "    1: 100,\n",
    "    2: 200,\n",
    "    3: 300\n",
    "}"
   ]
  },
  {
   "cell_type": "code",
   "execution_count": 53,
   "metadata": {},
   "outputs": [
    {
     "data": {
      "text/plain": [
       "3"
      ]
     },
     "execution_count": 53,
     "metadata": {},
     "output_type": "execute_result"
    }
   ],
   "source": [
    "max(diccionario_numerico)"
   ]
  },
  {
   "cell_type": "markdown",
   "metadata": {},
   "source": [
    "## Sentencias de control\n",
    "\n",
    "1. **Clasificación de triángulos:** Pide al usuario que ingrese las longitudes de tres lados de un triángulo. Determina si el triángulo es equilátero (todos los lados iguales), isósceles (dos lados iguales), o escaleno (ningún lado igual).\n",
    "2. **Conversión de temperatura:** Crea un programa que permita al usuario convertir temperaturas entre Celsius y Fahrenheit. Pide al usuario que ingrese la temperatura y la unidad (C o F) y realiza la conversión.\n",
    "3. **Cajero automático:** Simula un cajero automático que permite a los usuarios verificar su saldo, depositar y retirar dinero. El programa debe mantener un registro del saldo actual.\n",
    "4. **Calculadora de descuento:** Pide al usuario que ingrese el precio original de un producto y el porcentaje de descuento. Calcula el precio final después del descuento y muestra el ahorro.\n",
    "5. **Cálculo de promedio de calificaciones:** Pide al usuario que ingrese una serie de calificaciones y calcule el promedio. También muestra si el estudiante aprobó (promedio mayor o igual a 5) o no. Pistas:\n",
    "   * Solicita al usuario que ingrese 4 notas de calificaciones que quiere promediar.\n",
    "   * Convierte el string en una lista de números.\n",
    "   * Calcula el promedio de las calificaciones ingresadas.\n",
    "   * Muestra el resultado del promedio con dos decimales.\n",
    "   * Determina si el estudiante aprobó o no. Un estudiante se considera aprobado si su promedio es mayor o igual a 5.\n",
    "6. **Generador de contraseñas seguras:** Crea un programa que genere una contraseña segura. El usuario debe especificar la longitud deseada y si desea incluir números, letras mayúsculas, minúsculas y caracteres especiales. Pistas:\n",
    "   * Pregunta al usuario cuántos caracteres debe tener la contraseña que desea generar.\n",
    "   * Luego, consulta al usuario si quiere incluir números, letras mayúsculas, letras minúsculas y caracteres especiales en su contraseña.\n",
    "   * Basado en las respuestas del usuario, crea una contraseña segura aleatoria que cumple con los criterios especificados.\n",
    "   * Muestra la contraseña generada como resultado.\n",
    "   * Este ejercicio le permite al usuario personalizar la fortaleza y complejidad de su contraseña según sus preferencias, lo que es esencial para mantener la seguridad en línea.\n",
    "7. **Calculadora de edad de perros:** Pide al usuario que ingrese la edad de su perro en años y calcula su edad equivalente en años humanos. La fórmula comúnmente utilizada es diferente para los primeros dos años y luego para el resto.\n",
    "8. **Simulador de ruleta:** Simula un juego de ruleta en el que el usuario apuesta un monto en un número o color específico. Genera un número aleatorio y determina si el usuario gana o pierde.\n",
    "   * Comienza por preguntar al usuario cuánto dinero quiere apostar en el juego de ruleta.\n",
    "   * Luego, pregunta al usuario si quiere apostar a un número específico o a un color (rojo o negro).\n",
    "   * Si el usuario elige apostar a un número, solicita que ingrese el número en el que quiere apostar (de 1 a 36, ya que son los números en una ruleta estándar).\n",
    "   * Si el usuario elige apostar a un color, solicita que indique si desea apostar al color rojo o negro.\n",
    "   * Genera un número aleatorio entre 1 y 36 para simular el resultado de la ruleta.\n",
    "   * Comprueba si el resultado coincide con la apuesta del usuario (ya sea número o color).\n",
    "   * Si coincide, el usuario gana un premio equivalente a su apuesta.\n",
    "   * Si no coincide, el usuario pierde la apuesta.\n",
    "   * Muestra el resultado del juego, indicando si el usuario ganó o perdió y cuánto dinero tiene después del juego.\n",
    "\n",
    "## While\n",
    "\n",
    "1. **Contador Regresivo:** Crea un programa que pida al usuario ingresar un número y luego cuente hacia abajo desde ese número hasta llegar a cero utilizando un bucle `while`.\n",
    "2. **Adivina el Número:** Genera un número aleatorio entre 1 y 20. Pide al usuario que adivine el número y proporciona pistas (mayor o menor) hasta que adivinen correctamente.\n",
    "3. **Calculadora Simple:** Desarrolla una calculadora que realice operaciones básicas (suma, resta, multiplicación, división) con dos números ingresados por el usuario. El programa debe permitir al usuario realizar cálculos continuos hasta que decida salir.\n",
    "4. **Conversión de Unidades:** Crea un programa que convierta entre diferentes unidades de medida (por ejemplo, de grados Celsius a grados Fahrenheit o de kilómetros a millas). El usuario debe ingresar los valores y las unidades de origen y destino, y el programa realizará la conversión hasta que el usuario decida detenerse.\n"
   ]
  }
 ],
 "metadata": {
  "kernelspec": {
   "display_name": "base",
   "language": "python",
   "name": "python3"
  },
  "language_info": {
   "codemirror_mode": {
    "name": "ipython",
    "version": 3
   },
   "file_extension": ".py",
   "mimetype": "text/x-python",
   "name": "python",
   "nbconvert_exporter": "python",
   "pygments_lexer": "ipython3",
   "version": "3.12.7"
  }
 },
 "nbformat": 4,
 "nbformat_minor": 2
}
