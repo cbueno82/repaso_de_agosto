{
 "cells": [
  {
   "cell_type": "markdown",
   "metadata": {},
   "source": [
    "# Expresiones regulares\n",
    "\n",
    "1. Validar un número de teléfono.\n",
    "\n",
    "* Descripción: Verificar si una cadena representa un número de teléfono válido en el formato (XXX) XXX-XXXX.\n",
    "*   Probad para cada uno de los teléfonos que tenemos en la siguiente lista:\n",
    "\n",
    "    ```python\n",
    "    telefonos = [\"(123) 456-7890\", \"178 1890-733\", \"(555) 238-1987\", \"(123) 4560-7890\", \"(ABC) 098-1111\"]\n",
    "    ```"
   ]
  },
  {
   "cell_type": "code",
   "execution_count": 4,
   "metadata": {},
   "outputs": [],
   "source": [
    "import re"
   ]
  },
  {
   "cell_type": "code",
   "execution_count": 17,
   "metadata": {},
   "outputs": [
    {
     "name": "stdout",
     "output_type": "stream",
     "text": [
      "El número es válido\n",
      "No coincide\n",
      "El número es válido\n",
      "No coincide\n",
      "No coincide\n"
     ]
    }
   ],
   "source": [
    "telefonos = [\"(123) 456-7890\", \"178 1890-733\", \"(555) 238-1987\", \"(123) 4560-7890\", \"(ABC) 098-1111\"]\n",
    "patron = r\"[(]\\d{3}[)]\\s\\d{3}-\\d{4}\"\n",
    "\n",
    "for n in telefonos:\n",
    "    if re.fullmatch(patron, n):\n",
    "        print(\"El número es válido\")\n",
    "    else:\n",
    "        print(\"No coincide\")\n"
   ]
  },
  {
   "cell_type": "markdown",
   "metadata": {},
   "source": [
    "\n",
    "2. Buscar todas las direcciones de correo electrónico en un texto.\n",
    "\n",
    "* Descripción: Encontrar todas las direcciones de correo electrónico presentes en una cadena de texto.\n",
    "*   Probad con el siguiente _string_:\n",
    "\n",
    "    ```python\n",
    "    texto = \"Mi correo es user@example.com. Contacta conmigo en john.doe@email.com\"\n",
    "    ```"
   ]
  },
  {
   "cell_type": "code",
   "execution_count": 26,
   "metadata": {},
   "outputs": [
    {
     "name": "stdout",
     "output_type": "stream",
     "text": [
      "user@example.com\n",
      "doe@email.com\n"
     ]
    }
   ],
   "source": [
    "texto = \"Mi correo es user@example.com. Contacta conmigo en john.doe@email.com\"\n",
    "patron = r\"\\b\\w*@\\w*\\b\\.\\w*\\b\"\n",
    "\n",
    "correo = re.findall(patron, texto)\n",
    "\n",
    "for c in correo:\n",
    "    print(c)"
   ]
  },
  {
   "cell_type": "markdown",
   "metadata": {},
   "source": [
    "3. Validar un código postal.\n",
    "\n",
    "* Descripción: Verificar si una cadena representa un código postal válido de 5 dígitos.\n",
    "*   Probad para cada uno de los códigos postales que tenemos en la siguiente lista:\n",
    "\n",
    "    ```python\n",
    "    codigos_postales = [\"12345\", \"190037\", \"78409\", \"986449\", \"19305\"]\n",
    "    ```"
   ]
  },
  {
   "cell_type": "code",
   "execution_count": 18,
   "metadata": {},
   "outputs": [
    {
     "name": "stdout",
     "output_type": "stream",
     "text": [
      "El número es válido\n",
      "No coincide\n",
      "El número es válido\n",
      "No coincide\n",
      "El número es válido\n"
     ]
    }
   ],
   "source": [
    "codigos_postales = [\"12345\", \"190037\", \"78409\", \"986449\", \"19305\"]\n",
    "patron = r\"\\d{5}\"\n",
    "\n",
    "for n in codigos_postales:\n",
    "    if re.fullmatch(patron, n):\n",
    "        print(\"El número es válido\")\n",
    "    else:\n",
    "        print(\"No coincide\")"
   ]
  },
  {
   "cell_type": "markdown",
   "metadata": {},
   "source": [
    "4. Encontrar todas las palabras que comienzan con una vocal en un texto.\n",
    "\n",
    "* Descripción: Encontrar todas las palabras en un texto que comienzan con una vocal (a, e, i, o, u).\n",
    "*   Probad con el siguiente _string_:\n",
    "\n",
    "    ```python\n",
    "    texto = \"El perro está ladrando. Ana tiene una manzana. La casa es grande.\"\n",
    "    ```"
   ]
  },
  {
   "cell_type": "code",
   "execution_count": 35,
   "metadata": {},
   "outputs": [
    {
     "name": "stdout",
     "output_type": "stream",
     "text": [
      "['El', 'está', 'Ana', 'una', 'es']\n"
     ]
    }
   ],
   "source": [
    "texto = \"El perro está ladrando. Ana tiene una manzana. La casa es grande.\"\n",
    "patron = r\"\\b[aeiouAEIOUáéíóúÁÉÍÓÚ]\\w*\\b\"\n",
    "\n",
    "resultado = re.findall(patron, texto)\n",
    "print(resultado)"
   ]
  },
  {
   "cell_type": "markdown",
   "metadata": {},
   "source": [
    "5. Extraer todos los hashtags de un texto.\n",
    "\n",
    "* Descripción: Extraer todos los hashtags (#) presentes en una cadena de texto.\n",
    "*   Probad con el siguiente _string_:\n",
    "\n",
    "    ```python\n",
    "    texto = \"Me encanta el #deporte. #FelizViernes a todos. Estoy en la conferencia #Tech2022.\"\n",
    "    ```"
   ]
  },
  {
   "cell_type": "code",
   "execution_count": 36,
   "metadata": {},
   "outputs": [
    {
     "name": "stdout",
     "output_type": "stream",
     "text": [
      "#deporte\n",
      "#FelizViernes\n",
      "#Tech2022\n"
     ]
    }
   ],
   "source": [
    "texto = \"Me encanta el #deporte. #FelizViernes a todos. Estoy en la conferencia #Tech2022.\"\n",
    "patron = r\"#\\w*\\b\"\n",
    "hastagh = re.findall(patron, texto)\n",
    "\n",
    "for h in hastagh:\n",
    "    print(h)"
   ]
  },
  {
   "cell_type": "markdown",
   "metadata": {},
   "source": [
    "6. Buscar todos los números decimales en una cadena de texto.\n",
    "\n",
    "* Descripción: Encontrar todos los números decimales presentes en una cadena de texto.\n",
    "*   Probad con el siguiente _string_:\n",
    "\n",
    "    ```python\n",
    "    texto = \"El precio es $19.99. La temperatura es 25.5°C. El índice de inflación es del 2.5%.\"     \n",
    "    ```"
   ]
  },
  {
   "cell_type": "code",
   "execution_count": 40,
   "metadata": {},
   "outputs": [
    {
     "name": "stdout",
     "output_type": "stream",
     "text": [
      "19.99\n",
      "25.5\n",
      "2.5\n"
     ]
    }
   ],
   "source": [
    "texto = \"El precio es $19.99. La temperatura es 25.5°C. El índice de inflación es del 2.5%.\" \n",
    "patron = r\"\\d+\\.\\d+\"\n",
    "decimal = re.findall(patron, texto)\n",
    "\n",
    "for d in decimal:\n",
    "    print(d)"
   ]
  },
  {
   "cell_type": "markdown",
   "metadata": {},
   "source": [
    "7. Validar un nombre de usuario.\n",
    "\n",
    "* Descripción: Verificar si una cadena representa un nombre de usuario válido, que contiene solo letras minúsculas, números y guiones bajos (\\_).\n",
    "*   Probad con la siguiente lista de usuarios:\n",
    "\n",
    "    ```python\n",
    "    lista_usuarios = [\"juan_doe123\", \"lola_12\", \"Aurora_23\", \"12marta_lopez\"]\n",
    "    ```"
   ]
  },
  {
   "cell_type": "code",
   "execution_count": 43,
   "metadata": {},
   "outputs": [
    {
     "name": "stdout",
     "output_type": "stream",
     "text": [
      "juan_doe123\n",
      "lola_12\n"
     ]
    }
   ],
   "source": [
    "lista_usuarios = [\"juan_doe123\", \"lola_12\", \"Aurora_23\", \"12marta_lopez\"]\n",
    "\n",
    "for u in lista_usuarios:\n",
    "    if re.match(r\"^[a-z_][a-z0-9_]*$\", u):\n",
    "        print(u)\n"
   ]
  },
  {
   "cell_type": "markdown",
   "metadata": {},
   "source": [
    "8. Encontrar todas las fechas en formato \"dd/mm/aaaa\" en un texto.\n",
    "   * Descripción: Encontrar todas las fechas válidas en formato \"dd/mm/aaaa\" presentes en una cadena de texto.\n",
    "   *   Probad con el siguiente _string_:\n",
    "\n",
    "       ```python\n",
    "       texto = \"La fecha límite es el 31/12/2022. Hoy es 01/01/2023. Cumpleaños: 15/05/1990.\"\n",
    "       ```"
   ]
  },
  {
   "cell_type": "code",
   "execution_count": 22,
   "metadata": {},
   "outputs": [
    {
     "name": "stdout",
     "output_type": "stream",
     "text": [
      "31/12/2022\n",
      "01/01/2023\n",
      "15/05/1990\n"
     ]
    }
   ],
   "source": [
    "texto = \"La fecha límite es el 31/12/2022. Hoy es 01/01/2023. Cumpleaños: 15/05/1990.\"\n",
    "patron = r\"\\d{2}/\\d{2}/\\d{4}\"\n",
    "\n",
    "fechas = re.findall(patron, texto)\n",
    "\n",
    "for fecha in fechas:\n",
    "    print(fecha)"
   ]
  },
  {
   "cell_type": "markdown",
   "metadata": {},
   "source": [
    "9. Remover caracteres especiales.\n",
    "\n",
    "* Descripción: Dada una cadena de texto, remover cualquier carácter especial, como signos de puntuación y símbolos.\n",
    "*   Probad con el siguiente _string_:\n",
    "\n",
    "    ```python\n",
    "    texto = '¡Hola, cómo estás? ¿Todo bien?'\n",
    "    ```"
   ]
  },
  {
   "cell_type": "code",
   "execution_count": 46,
   "metadata": {},
   "outputs": [
    {
     "name": "stdout",
     "output_type": "stream",
     "text": [
      "Hola cómo estás Todo bien\n"
     ]
    }
   ],
   "source": [
    "texto = '¡Hola, cómo estás? ¿Todo bien?'\n",
    "texto_limpio = re.sub(r'[^a-zA-Záéíóúz0-9\\s]', '', texto)\n",
    "print(texto_limpio)"
   ]
  },
  {
   "cell_type": "markdown",
   "metadata": {},
   "source": [
    "10. BONUS: Enmascarar información personal.\n",
    "    * Descripción: Dada una cadena de texto que contiene información personal, como nombres y direcciones, enmascarar esta información reemplazándola con asteriscos (`*`).\n",
    "    *   Probad con este _string_:\n",
    "\n",
    "        ```python\n",
    "        texto = 'El nombre del cliente es John Doe y su dirección es 123 Main Street.'\n",
    "        ```"
   ]
  },
  {
   "cell_type": "code",
   "execution_count": 49,
   "metadata": {},
   "outputs": [
    {
     "name": "stdout",
     "output_type": "stream",
     "text": [
      "El nombre del cliente es ******** y su dirección es ***************.\n"
     ]
    }
   ],
   "source": [
    "texto = 'El nombre del cliente es John Doe y su dirección es 123 Main Street.'\n",
    "\n",
    "# Enmascarar nombres después de \"nombre del cliente es\"\n",
    "texto_enmascarado = re.sub(\n",
    "    r'(?<=nombre del cliente es )([A-Z][a-z]*(?:\\s[A-Z][a-z]*)*)',\n",
    "    lambda x: '*' * len(x.group()),\n",
    "    texto\n",
    ")\n",
    "\n",
    "# Enmascarar dirección después de \"dirección es\"\n",
    "texto_enmascarado = re.sub(\n",
    "    r'(?<=dirección es )([\\w\\s\\d]+)',\n",
    "    lambda x: '*' * len(x.group()),\n",
    "    texto_enmascarado\n",
    ")\n",
    "\n",
    "print(texto_enmascarado)"
   ]
  },
  {
   "cell_type": "code",
   "execution_count": null,
   "metadata": {},
   "outputs": [],
   "source": []
  }
 ],
 "metadata": {
  "kernelspec": {
   "display_name": "base",
   "language": "python",
   "name": "python3"
  },
  "language_info": {
   "codemirror_mode": {
    "name": "ipython",
    "version": 3
   },
   "file_extension": ".py",
   "mimetype": "text/x-python",
   "name": "python",
   "nbconvert_exporter": "python",
   "pygments_lexer": "ipython3",
   "version": "3.12.7"
  }
 },
 "nbformat": 4,
 "nbformat_minor": 2
}
